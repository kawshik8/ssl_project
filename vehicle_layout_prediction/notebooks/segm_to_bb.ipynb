{
 "cells": [
  {
   "cell_type": "code",
   "execution_count": 1,
   "metadata": {},
   "outputs": [],
   "source": [
    "import sys\n",
    "sys.path.append(\"/scratch/mz2476/DL/project/\")\n",
    "\n",
    "# from modelzoo import encoder\n",
    "\n",
    "# from ssl_project.ssl_ideas.model import ShuffleAndLearnModel\n",
    "from ssl_project.utils import to_np\n",
    "import numpy as np\n",
    "import torch\n",
    "import matplotlib.pyplot as plt\n",
    "\n",
    "# import pytorch_lightning as pl \n",
    "# from argparse import Namespace\n",
    "\n",
    "# from torch.utils.data import DataLoader\n",
    "\n",
    "# from pl_modules import VariationalAutoEncoder, AutoEncoder, MMDVariationalAutoEncoder\n",
    "# from argparse import Namespace\n",
    "# import pytorch_lightning as pl\n",
    "# from pytorch_lightning.callbacks import ModelCheckpoint\n",
    "\n",
    "\n",
    "# from ssl_project.paths import *\n",
    "\n",
    "from ssl_project.utils import compute_ats_bounding_boxes, compute_ats_bounding_boxes_NEW\n",
    "from data_helper import LabeledDataset\n",
    "\n",
    "from ssl_project.data_loaders.plot_utils import plot_bb\n",
    "from bb_utils import *"
   ]
  },
  {
   "cell_type": "code",
   "execution_count": 2,
   "metadata": {},
   "outputs": [],
   "source": [
    "data = LabeledDataset(\n",
    "    image_folder=\"../data/\",\n",
    "    annotation_file=\"../data/annotation.csv\",\n",
    "    scene_index=np.array([131, 132, 133])\n",
    ")"
   ]
  },
  {
   "cell_type": "code",
   "execution_count": 3,
   "metadata": {},
   "outputs": [],
   "source": [
    "targ_bbs = data[39][1][\"bounding_box\"]"
   ]
  },
  {
   "cell_type": "markdown",
   "metadata": {},
   "source": [
    "# Check new func for compute_ats_bounding_boxes works same"
   ]
  },
  {
   "cell_type": "code",
   "execution_count": 4,
   "metadata": {},
   "outputs": [],
   "source": [
    "# for i in range(100):\n",
    "#     targ_bbs = data[i][1][\"bounding_box\"]\n",
    "#     assert (compute_ats_bounding_boxes(targ_bbs[:10],targ_bbs) \n",
    "#             - compute_ats_bounding_boxes_NEW(targ_bbs[:10],targ_bbs)) < 1e-6"
   ]
  },
  {
   "cell_type": "code",
   "execution_count": 5,
   "metadata": {
    "scrolled": true
   },
   "outputs": [],
   "source": [
    "# print(compute_ats_bounding_boxes(targ_bbs[:10],targ_bbs))\n",
    "# print(compute_ats_bounding_boxes_NEW(targ_bbs[:10],targ_bbs))"
   ]
  },
  {
   "cell_type": "code",
   "execution_count": 4,
   "metadata": {},
   "outputs": [],
   "source": [
    "map_NN = np.zeros((800, 800))"
   ]
  },
  {
   "cell_type": "code",
   "execution_count": 5,
   "metadata": {
    "scrolled": true
   },
   "outputs": [
    {
     "data": {
      "image/png": "[encoded data removed]",
      "text/plain": [
       "<Figure size 432x288 with 1 Axes>"
      ]
     },
     "metadata": {
      "needs_background": "light"
     },
     "output_type": "display_data"
    }
   ],
   "source": [
    "plot_bb(map_NN, targ_bbs)"
   ]
  },
  {
   "cell_type": "markdown",
   "metadata": {},
   "source": [
    "# Simple strategy: alwars predicting line of cars"
   ]
  },
  {
   "cell_type": "code",
   "execution_count": 4,
   "metadata": {},
   "outputs": [],
   "source": [
    "grid_bbs = []\n",
    "\n",
    "len_x, len_y = 50., 25.\n",
    "offset_x, from_y, to_y = 20., 420., 440 \n",
    "for x_start in np.arange(offset_x, 800 - offset_x, len_x):\n",
    "    for y_start in np.arange(from_y, to_y, len_y):\n",
    "        bb_24 = torch.Tensor([\n",
    "            [x_start + len_x, x_start + len_x, x_start, x_start],\n",
    "            [y_start + len_y, y_start, y_start + len_y, y_start],\n",
    "        ])\n",
    "        grid_bbs.append(bb_24)\n",
    "        \n",
    "grid_bbs_k24 = torch.stack(grid_bbs)"
   ]
  },
  {
   "cell_type": "code",
   "execution_count": 5,
   "metadata": {},
   "outputs": [],
   "source": [
    "bb_space_bbs_k24 = convert_to_bb_space(grid_bbs_k24, axis=-2)"
   ]
  },
  {
   "cell_type": "code",
   "execution_count": 7,
   "metadata": {},
   "outputs": [
    {
     "data": {
      "text/plain": [
       "tensor([[[ 70.,  70.,  20.,  20.],\n",
       "         [445., 420., 445., 420.]],\n",
       "\n",
       "        [[120., 120.,  70.,  70.],\n",
       "         [445., 420., 445., 420.]],\n",
       "\n",
       "        [[170., 170., 120., 120.],\n",
       "         [445., 420., 445., 420.]],\n",
       "\n",
       "        [[220., 220., 170., 170.],\n",
       "         [445., 420., 445., 420.]],\n",
       "\n",
       "        [[270., 270., 220., 220.],\n",
       "         [445., 420., 445., 420.]],\n",
       "\n",
       "        [[320., 320., 270., 270.],\n",
       "         [445., 420., 445., 420.]],\n",
       "\n",
       "        [[370., 370., 320., 320.],\n",
       "         [445., 420., 445., 420.]],\n",
       "\n",
       "        [[420., 420., 370., 370.],\n",
       "         [445., 420., 445., 420.]],\n",
       "\n",
       "        [[470., 470., 420., 420.],\n",
       "         [445., 420., 445., 420.]],\n",
       "\n",
       "        [[520., 520., 470., 470.],\n",
       "         [445., 420., 445., 420.]],\n",
       "\n",
       "        [[570., 570., 520., 520.],\n",
       "         [445., 420., 445., 420.]],\n",
       "\n",
       "        [[620., 620., 570., 570.],\n",
       "         [445., 420., 445., 420.]],\n",
       "\n",
       "        [[670., 670., 620., 620.],\n",
       "         [445., 420., 445., 420.]],\n",
       "\n",
       "        [[720., 720., 670., 670.],\n",
       "         [445., 420., 445., 420.]],\n",
       "\n",
       "        [[770., 770., 720., 720.],\n",
       "         [445., 420., 445., 420.]],\n",
       "\n",
       "        [[820., 820., 770., 770.],\n",
       "         [445., 420., 445., 420.]]])"
      ]
     },
     "execution_count": 7,
     "metadata": {},
     "output_type": "execute_result"
    }
   ],
   "source": [
    "grid_bbs_k24"
   ]
  },
  {
   "cell_type": "code",
   "execution_count": 8,
   "metadata": {
    "scrolled": false
   },
   "outputs": [
    {
     "data": {
      "image/png": "[encoded data removed]",
      "text/plain": [
       "<Figure size 432x288 with 1 Axes>"
      ]
     },
     "metadata": {
      "needs_background": "light"
     },
     "output_type": "display_data"
    }
   ],
   "source": [
    "fig, axis= plt.subplots(1, 1)\n",
    "\n",
    "for bb_24 in grid_bbs_k24:\n",
    "    plt.scatter(bb_24[0], bb_24[1], s=1)\n",
    "    \n",
    "    \n",
    "plot_bb(map_NN, bb_space_bbs_k24, axis=axis)\n",
    "plot_bb(map_NN, targ_bbs, axis=axis, color='r')"
   ]
  },
  {
   "cell_type": "code",
   "execution_count": 11,
   "metadata": {},
   "outputs": [],
   "source": [
    "# scores = []\n",
    "# for idx in range(len(data)):\n",
    "#     scores.append(\n",
    "#         compute_ats_bounding_boxes_NEW(\n",
    "#             data[idx][1][\"bounding_box\"], \n",
    "#            bb_space_bbs_k24\n",
    "#         )\n",
    "#     )"
   ]
  },
  {
   "cell_type": "code",
   "execution_count": 12,
   "metadata": {
    "scrolled": true
   },
   "outputs": [
    {
     "data": {
      "text/plain": [
       "tensor(0.0108)"
      ]
     },
     "execution_count": 12,
     "metadata": {},
     "output_type": "execute_result"
    }
   ],
   "source": [
    "# torch.stack(scores).mean()"
   ]
  },
  {
   "cell_type": "markdown",
   "metadata": {},
   "source": [
    "# Add postprocessing for bbs"
   ]
  },
  {
   "cell_type": "code",
   "execution_count": 11,
   "metadata": {},
   "outputs": [],
   "source": [
    "# def _generate_random_bbs_of_fixed_car_size(k, size_xy=(40, 20)):\n",
    "#     random_k2 = torch.Tensor(np.random.randint(0, 800, size=(k, 2)).astype(float))\n",
    "#     random_bbs_k24 = torch.zeros(k, 2, 4)\n",
    "#     random_bbs_k24 += random_k2[..., None]\n",
    "\n",
    "#     # shift_24 = torch.Tensor(np.random.randint(0, 40, size=(2, 4)).astype(float))\n",
    "#     shift_24 = torch.Tensor([\n",
    "#         [0, 0, -size_xy[0], -size_xy[0]],\n",
    "#         [0, -size_xy[1], 0, -size_xy[1]]\n",
    "#     ]).float()\n",
    "#     random_bbs_k24 += shift_24[None]\n",
    "#     return random_bbs_k24\n",
    "\n",
    "# def generate_random_bbs(k):\n",
    "#     random_bbs_k24 = []\n",
    "#     for _ in range(k):\n",
    "#         x, y = random.randint(2, 200), random.randint(2, 20)\n",
    "#         random_bbs_k24.append(_generate_random_bbs_of_fixed_car_size(1, (x, y)))\n",
    "#     return torch.cat(random_bbs_k24)\n",
    "    \n",
    "\n",
    "# # random_bbs_k24[:, 0, ]\n",
    "# # plot_bb(map_NN, xx, color='r')"
   ]
  },
  {
   "cell_type": "code",
   "execution_count": 12,
   "metadata": {
    "scrolled": true
   },
   "outputs": [
    {
     "data": {
      "text/plain": [
       "torch.Size([7, 2, 4])"
      ]
     },
     "execution_count": 12,
     "metadata": {},
     "output_type": "execute_result"
    }
   ],
   "source": [
    "generate_random_bbs(7).shape"
   ]
  },
  {
   "cell_type": "code",
   "execution_count": 13,
   "metadata": {},
   "outputs": [],
   "source": [
    "random_bbs_k24 = generate_random_bbs(100)"
   ]
  },
  {
   "cell_type": "code",
   "execution_count": 14,
   "metadata": {},
   "outputs": [],
   "source": [
    "from importlib import reload\n",
    "import bb_utils\n",
    "reload(bb_utils)\n",
    "\n",
    "from bb_utils import *"
   ]
  },
  {
   "cell_type": "code",
   "execution_count": 15,
   "metadata": {},
   "outputs": [],
   "source": [
    "pipe = ProcessSegmentationMaps()"
   ]
  },
  {
   "cell_type": "code",
   "execution_count": 16,
   "metadata": {},
   "outputs": [],
   "source": [
    "splitted_bbs_k24 = pipe.transform(random_bbs_k24, input_type=\"bb\")"
   ]
  },
  {
   "cell_type": "code",
   "execution_count": 17,
   "metadata": {
    "scrolled": true
   },
   "outputs": [
    {
     "data": {
      "image/png": "[encoded data removed]",
      "text/plain": [
       "<Figure size 720x720 with 1 Axes>"
      ]
     },
     "metadata": {
      "needs_background": "light"
     },
     "output_type": "display_data"
    }
   ],
   "source": [
    "fig, axis= plt.subplots(1, 1, figsize=(10, 10))\n",
    "\n",
    "# for bb_24 in grid_bbs_k24:\n",
    "#     plt.scatter(bb_24[0], bb_24[1], s=1)\n",
    "    \n",
    "    \n",
    "# plot_bb(map_NN, bb_space_bbs_k24, axis=axis)\n",
    "plot_bb(map_NN, convert_to_bb_space(random_bbs_k24, axis=-2) + 1, axis=axis, color='r')\n",
    "plot_bb(map_NN, convert_to_bb_space(splitted_bbs_k24, axis=-2), axis=axis, color='g')\n"
   ]
  },
  {
   "cell_type": "markdown",
   "metadata": {},
   "source": [
    "# Testing `ProcessSegmentationMaps` class"
   ]
  },
  {
   "cell_type": "code",
   "execution_count": 18,
   "metadata": {},
   "outputs": [],
   "source": [
    "import cv2"
   ]
  },
  {
   "cell_type": "code",
   "execution_count": 31,
   "metadata": {},
   "outputs": [],
   "source": [
    "segm_map_NN = torch.zeros((800, 800))\n",
    "segm_map_NN[420:490, 60:80] = 1\n",
    "segm_map_NN[420:490, 270:280] = 1\n",
    "segm_map_NN[370:390, 350:380] = 1\n",
    "segm_map_NN[470:495, 350:390] = 1"
   ]
  },
  {
   "cell_type": "code",
   "execution_count": 32,
   "metadata": {
    "scrolled": false
   },
   "outputs": [
    {
     "data": {
      "text/plain": [
       "<matplotlib.image.AxesImage at 0x2abd1f631490>"
      ]
     },
     "execution_count": 32,
     "metadata": {},
     "output_type": "execute_result"
    },
    {
     "data": {
      "image/png": "[encoded data removed]",
      "text/plain": [
       "<Figure size 432x288 with 1 Axes>"
      ]
     },
     "metadata": {
      "needs_background": "light"
     },
     "output_type": "display_data"
    }
   ],
   "source": [
    "plt.imshow(segm_map_NN)"
   ]
  },
  {
   "cell_type": "code",
   "execution_count": 33,
   "metadata": {
    "scrolled": true
   },
   "outputs": [],
   "source": [
    "bbs_k24 = pipe.transform(segm_map_NN, input_type=\"segm\")"
   ]
  },
  {
   "cell_type": "code",
   "execution_count": 34,
   "metadata": {},
   "outputs": [
    {
     "data": {
      "text/plain": [
       "<matplotlib.image.AxesImage at 0x2abd1e1fc7f0>"
      ]
     },
     "execution_count": 34,
     "metadata": {},
     "output_type": "execute_result"
    },
    {
     "data": {
      "image/png": "[encoded data removed]",
      "text/plain": [
       "<Figure size 432x288 with 1 Axes>"
      ]
     },
     "metadata": {
      "needs_background": "light"
     },
     "output_type": "display_data"
    }
   ],
   "source": [
    "fig, axis= plt.subplots(1, 1)\n",
    "plot_bb(map_NN, convert_to_bb_space(bbs_k24, axis=-2), axis=axis, color='g')\n",
    "axis.imshow(segm_map_NN, alpha=0.3)"
   ]
  },
  {
   "cell_type": "code",
   "execution_count": null,
   "metadata": {},
   "outputs": [],
   "source": []
  }
 ],
 "metadata": {
  "kernelspec": {
   "display_name": "Python 3",
   "language": "python",
   "name": "python3"
  },
  "language_info": {
   "codemirror_mode": {
    "name": "ipython",
    "version": 3
   },
   "file_extension": ".py",
   "mimetype": "text/x-python",
   "name": "python",
   "nbconvert_exporter": "python",
   "pygments_lexer": "ipython3",
   "version": "3.8.2"
  },
  "toc": {
   "base_numbering": 1,
   "nav_menu": {},
   "number_sections": true,
   "sideBar": true,
   "skip_h1_title": false,
   "title_cell": "Table of Contents",
   "title_sidebar": "Contents",
   "toc_cell": false,
   "toc_position": {},
   "toc_section_display": true,
   "toc_window_display": false
  }
 },
 "nbformat": 4,
 "nbformat_minor": 4
}
