{
 "cells": [
  {
   "cell_type": "code",
   "execution_count": 1,
   "metadata": {},
   "outputs": [],
   "source": [
    "import torch"
   ]
  },
  {
   "cell_type": "code",
   "execution_count": 2,
   "metadata": {},
   "outputs": [
    {
     "data": {
      "text/plain": [
       "'1.5.0'"
      ]
     },
     "execution_count": 2,
     "metadata": {},
     "output_type": "execute_result"
    }
   ],
   "source": [
    "torch.__version__"
   ]
  },
  {
   "cell_type": "code",
   "execution_count": 3,
   "metadata": {},
   "outputs": [
    {
     "name": "stdout",
     "output_type": "stream",
     "text": [
      "Fri May  8 01:32:30 2020       \r\n",
      "+-----------------------------------------------------------------------------+\r\n",
      "| NVIDIA-SMI 418.39       Driver Version: 418.39       CUDA Version: 10.1     |\r\n",
      "|-------------------------------+----------------------+----------------------+\r\n",
      "| GPU  Name        Persistence-M| Bus-Id        Disp.A | Volatile Uncorr. ECC |\r\n",
      "| Fan  Temp  Perf  Pwr:Usage/Cap|         Memory-Usage | GPU-Util  Compute M. |\r\n",
      "|===============================+======================+======================|\r\n",
      "|   0  Tesla P40           On   | 00000000:04:00.0 Off |                    0 |\r\n",
      "| N/A   13C    P8     9W / 250W |      0MiB / 22919MiB |      0%   E. Process |\r\n",
      "+-------------------------------+----------------------+----------------------+\r\n",
      "                                                                               \r\n",
      "+-----------------------------------------------------------------------------+\r\n",
      "| Processes:                                                       GPU Memory |\r\n",
      "|  GPU       PID   Type   Process name                             Usage      |\r\n",
      "|=============================================================================|\r\n",
      "|  No running processes found                                                 |\r\n",
      "+-----------------------------------------------------------------------------+\r\n"
     ]
    }
   ],
   "source": [
    "!nvidia-smi"
   ]
  },
  {
   "cell_type": "code",
   "execution_count": null,
   "metadata": {},
   "outputs": [],
   "source": []
  },
  {
   "cell_type": "code",
   "execution_count": 3,
   "metadata": {},
   "outputs": [
    {
     "data": {
      "text/plain": [
       "False"
      ]
     },
     "execution_count": 3,
     "metadata": {},
     "output_type": "execute_result"
    }
   ],
   "source": [
    "torch.cuda.is_available()"
   ]
  },
  {
   "cell_type": "code",
   "execution_count": null,
   "metadata": {},
   "outputs": [],
   "source": []
  },
  {
   "cell_type": "code",
   "execution_count": 1,
   "metadata": {},
   "outputs": [
    {
     "ename": "ModuleNotFoundError",
     "evalue": "No module named 'data_helper'",
     "output_type": "error",
     "traceback": [
      "\u001b[0;31m---------------------------------------------------------------------------\u001b[0m",
      "\u001b[0;31mModuleNotFoundError\u001b[0m                       Traceback (most recent call last)",
      "\u001b[0;32m<ipython-input-1-1ba1a17ce7d2>\u001b[0m in \u001b[0;36m<module>\u001b[0;34m\u001b[0m\n\u001b[1;32m     10\u001b[0m \u001b[0;32mimport\u001b[0m \u001b[0mtorchvision\u001b[0m\u001b[0;34m\u001b[0m\u001b[0;34m\u001b[0m\u001b[0m\n\u001b[1;32m     11\u001b[0m \u001b[0;34m\u001b[0m\u001b[0m\n\u001b[0;32m---> 12\u001b[0;31m \u001b[0;32mfrom\u001b[0m \u001b[0mdata_helper\u001b[0m \u001b[0;32mimport\u001b[0m \u001b[0mLabeledDataset\u001b[0m\u001b[0;34m\u001b[0m\u001b[0;34m\u001b[0m\u001b[0m\n\u001b[0m\u001b[1;32m     13\u001b[0m \u001b[0;32mfrom\u001b[0m \u001b[0mhelper\u001b[0m \u001b[0;32mimport\u001b[0m \u001b[0mcompute_ats_bounding_boxes\u001b[0m\u001b[0;34m,\u001b[0m \u001b[0mcompute_ts_road_map\u001b[0m\u001b[0;34m\u001b[0m\u001b[0;34m\u001b[0m\u001b[0m\n\u001b[1;32m     14\u001b[0m \u001b[0;34m\u001b[0m\u001b[0m\n",
      "\u001b[0;31mModuleNotFoundError\u001b[0m: No module named 'data_helper'"
     ]
    }
   ],
   "source": [
    "import os\n",
    "import random\n",
    "import argparse\n",
    "\n",
    "import numpy as np\n",
    "\n",
    "import torch\n",
    "import torch.nn as nn\n",
    "import torch.nn.functional as F\n",
    "import torchvision\n",
    "\n",
    "from data_helper import LabeledDataset\n",
    "from helper import compute_ats_bounding_boxes, compute_ts_road_map\n",
    "\n",
    "from model_loader import get_transform, ModelLoader"
   ]
  },
  {
   "cell_type": "code",
   "execution_count": null,
   "metadata": {},
   "outputs": [],
   "source": []
  },
  {
   "cell_type": "code",
   "execution_count": 7,
   "metadata": {},
   "outputs": [],
   "source": [
    "# checkpoint_path1 = '/scratch/sc6957/dlproject/checkpoints/checkpoint_26-4_Batch:16_Model:vae18random_dataV3_best.pth.tar'\n",
    "\n",
    "# model1 = torch.load(checkpoint_path1)['state_dict']\n",
    "\n",
    "# checkpoint_path2 = '/scratch/sc6957/submission/object_model.pth.tar'\n",
    "\n",
    "# model2 = torch.load(checkpoint_path2)\n",
    "\n",
    "# final_checkpoint_path = '/scratch/sc6957/dlproject/checkpoints/team_MAPS_final_checkpoint.pth.tar'\n",
    "\n",
    "# torch.save({\n",
    "#     'road_model_state_dict': model1,\n",
    "#     'object_model_state_dict': model2\n",
    "# }, final_checkpoint_path)\n",
    "\n",
    "# temp_object = torch.load(final_checkpoint_path)\n",
    "# temp_object"
   ]
  },
  {
   "cell_type": "code",
   "execution_count": 9,
   "metadata": {},
   "outputs": [
    {
     "name": "stdout",
     "output_type": "stream",
     "text": [
      "team_MAPS - 1 - Bounding Box Score: 0.007208 - Road Map Score: 0.8425\n"
     ]
    }
   ],
   "source": [
    "torch.backends.cudnn.deterministic = True\n",
    "torch.backends.cudnn.benchmark = False\n",
    "\n",
    "# parser = argparse.ArgumentParser()\n",
    "# parser.add_argument('--data_dir', type=str, default='data')\n",
    "# parser.add_argument('--testset', action='store_true')\n",
    "# parser.add_argument('--verbose', action='store_true')\n",
    "# opt = parser.parse_args()\n",
    "\n",
    "# image_folder = opt.data_dir\n",
    "# annotation_csv = f'{opt.data_dir}/annotation.csv'\n",
    "\n",
    "# if opt.testset:\n",
    "#     labeled_scene_index = np.arange(134, 148)\n",
    "# else:\n",
    "#     labeled_scene_index = np.arange(120, 134)\n",
    "\n",
    "image_folder = '../data'\n",
    "annotation_csv = '../data/annotation.csv'\n",
    "\n",
    "labeled_scene_index = np.arange(120, 134)\n",
    "\n",
    "labeled_trainset = LabeledDataset(\n",
    "    image_folder=image_folder,\n",
    "    annotation_file=annotation_csv,\n",
    "    scene_index=labeled_scene_index,\n",
    "    transform=get_transform(),\n",
    "    extra_info=False\n",
    "    )\n",
    "dataloader = torch.utils.data.DataLoader(\n",
    "    labeled_trainset,\n",
    "    batch_size=1,\n",
    "    shuffle=False,\n",
    "    num_workers=4\n",
    "    )\n",
    "\n",
    "\n",
    "model_loader = ModelLoader()\n",
    "\n",
    "total = 0\n",
    "total_ats_bounding_boxes = 0\n",
    "total_ts_road_map = 0\n",
    "for i, data in enumerate(dataloader):\n",
    "    total += 1\n",
    "    sample, target, road_image = data\n",
    "    sample = sample.cuda()\n",
    "\n",
    "    predicted_bounding_boxes = model_loader.get_bounding_boxes(sample)[0].cpu()\n",
    "    predicted_road_map = model_loader.get_binary_road_map(sample).cpu()\n",
    "    \n",
    "    ats_bounding_boxes = compute_ats_bounding_boxes(predicted_bounding_boxes, target['bounding_box'][0])\n",
    "    ts_road_map = compute_ts_road_map(predicted_road_map, road_image)\n",
    "\n",
    "    total_ats_bounding_boxes += ats_bounding_boxes\n",
    "    total_ts_road_map += ts_road_map\n",
    "\n",
    "#     if opt.verbose:\n",
    "#         print(f'{i} - Bounding Box Score: {ats_bounding_boxes:.4} - Road Map Score: {ts_road_map:.4}')\n",
    "\n",
    "print(f'{model_loader.team_name} - {model_loader.round_number} - Bounding Box Score: {total_ats_bounding_boxes / total:.4} - Road Map Score: {total_ts_road_map / total:.4}')"
   ]
  },
  {
   "cell_type": "code",
   "execution_count": null,
   "metadata": {},
   "outputs": [],
   "source": []
  }
 ],
 "metadata": {
  "kernelspec": {
   "display_name": "Python 3",
   "language": "python",
   "name": "python3"
  },
  "language_info": {
   "codemirror_mode": {
    "name": "ipython",
    "version": 3
   },
   "file_extension": ".py",
   "mimetype": "text/x-python",
   "name": "python",
   "nbconvert_exporter": "python",
   "pygments_lexer": "ipython3",
   "version": "3.8.2"
  }
 },
 "nbformat": 4,
 "nbformat_minor": 2
}
