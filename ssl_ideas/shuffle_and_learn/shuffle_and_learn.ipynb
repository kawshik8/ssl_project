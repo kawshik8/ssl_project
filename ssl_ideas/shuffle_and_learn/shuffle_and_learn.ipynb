{
 "cells": [
  {
   "cell_type": "markdown",
   "metadata": {},
   "source": [
    "# Shuffle and learn"
   ]
  },
  {
   "cell_type": "markdown",
   "metadata": {},
   "source": [
    "Train encoder to predict if 3 frames are in correct temporal order or not.  \n",
    "Paper: https://arxiv.org/abs/1603.08561"
   ]
  },
  {
   "cell_type": "code",
   "execution_count": 1,
   "metadata": {},
   "outputs": [],
   "source": [
    "import cv2\n",
    "\n",
    "import sys\n",
    "\n",
    "sys.path.append('/scratch/mz2476/DL/project/')\n",
    "\n",
    "import os\n",
    "import random\n",
    "\n",
    "import numpy as np\n",
    "import pandas as pd\n",
    "\n",
    "import matplotlib\n",
    "import matplotlib.pyplot as plt\n",
    "matplotlib.rcParams['figure.figsize'] = [5, 5]\n",
    "matplotlib.rcParams['figure.dpi'] = 200\n",
    "from ssl_project.data_loaders import plot_utils\n",
    "\n",
    "import imageio\n",
    "\n",
    "import torch\n",
    "import torch.nn as nn\n",
    "import torch.nn.functional as F\n",
    "import torchvision\n",
    "\n",
    "from ssl_project.data_loaders.data_helper import UnlabeledDataset, LabeledDataset\n",
    "from ssl_project.data_loaders.helper import collate_fn, draw_box\n",
    "from ssl_project import constants\n",
    "\n",
    "from ssl_project.preprocessing import top_down_segmentation\n",
    "\n",
    "\n",
    "from ssl_project.utils import to_np"
   ]
  },
  {
   "cell_type": "code",
   "execution_count": 2,
   "metadata": {},
   "outputs": [
    {
     "data": {
      "text/plain": [
       "True"
      ]
     },
     "execution_count": 2,
     "metadata": {},
     "output_type": "execute_result"
    }
   ],
   "source": [
    "torch.cuda.is_available()"
   ]
  },
  {
   "cell_type": "code",
   "execution_count": 3,
   "metadata": {
    "scrolled": true
   },
   "outputs": [],
   "source": [
    "from ssl_project.constants import *\n",
    "from ssl_project.paths import *"
   ]
  },
  {
   "cell_type": "code",
   "execution_count": 4,
   "metadata": {},
   "outputs": [],
   "source": [
    "from logger_hparams import HyperparamsSummaryTensorBoardLogger\n",
    "\n",
    "from ssl_project.ssl_ideas.preprocessing import TripleDataset\n",
    "from ssl_project.ssl_ideas.model import SET_SEED, ShuffleAndLearnModel"
   ]
  },
  {
   "cell_type": "code",
   "execution_count": 5,
   "metadata": {},
   "outputs": [],
   "source": [
    "import pytorch_lightning as pl \n",
    "from argparse import Namespace"
   ]
  },
  {
   "cell_type": "markdown",
   "metadata": {},
   "source": [
    "# Train model"
   ]
  },
  {
   "cell_type": "code",
   "execution_count": 9,
   "metadata": {},
   "outputs": [],
   "source": [
    "SET_SEED()"
   ]
  },
  {
   "cell_type": "code",
   "execution_count": 10,
   "metadata": {},
   "outputs": [],
   "source": [
    "LOGS_DIR   = \"lightning_logs\"\n",
    "hparams = Namespace(\n",
    "    fit_all_encoders=False,\n",
    "    lr=3e-3,\n",
    "    num_workers=8,\n",
    "    batch_size=64,\n",
    ")\n",
    "\n",
    "MODEL_NAME = f\"first_try_many_encoders={hparams.fit_all_encoders}\"\n",
    "version = \"04\""
   ]
  },
  {
   "cell_type": "code",
   "execution_count": 11,
   "metadata": {},
   "outputs": [],
   "source": [
    "logger = HyperparamsSummaryTensorBoardLogger(LOGS_DIR, name=MODEL_NAME, version=version)\n",
    "model  = ShuffleAndLearnModel(hparams=hparams)"
   ]
  },
  {
   "cell_type": "code",
   "execution_count": 12,
   "metadata": {},
   "outputs": [
    {
     "data": {
      "text/plain": [
       "['resnet_encoder', 'decoder', 'clf']"
      ]
     },
     "execution_count": 12,
     "metadata": {},
     "output_type": "execute_result"
    }
   ],
   "source": [
    "list(name for name, value in model.model.named_children())"
   ]
  },
  {
   "cell_type": "code",
   "execution_count": 13,
   "metadata": {},
   "outputs": [
    {
     "data": {
      "text/plain": [
       "<generator object Module.parameters at 0x2b1bf10e3740>"
      ]
     },
     "execution_count": 13,
     "metadata": {},
     "output_type": "execute_result"
    }
   ],
   "source": [
    "model.parameters()"
   ]
  },
  {
   "cell_type": "code",
   "execution_count": 14,
   "metadata": {},
   "outputs": [
    {
     "name": "stderr",
     "output_type": "stream",
     "text": [
      "INFO:lightning:GPU available: True, used: True\n",
      "INFO:lightning:CUDA_VISIBLE_DEVICES: [0]\n"
     ]
    }
   ],
   "source": [
    "trainer = pl.Trainer(\n",
    "    gpus=[0], \n",
    "#     auto_lr_find=True,\n",
    "    show_progress_bar=True,\n",
    "    val_check_interval=0.25,\n",
    "#     train_percent_check=0.001,\n",
    "#     val_percent_check=0.01,\n",
    "    logger=logger,\n",
    "    precision=32,\n",
    ")"
   ]
  },
  {
   "cell_type": "code",
   "execution_count": null,
   "metadata": {
    "scrolled": true
   },
   "outputs": [
    {
     "name": "stderr",
     "output_type": "stream",
     "text": [
      "INFO:lightning:Set SLURM handle signals.\n",
      "INFO:lightning:\n",
      "   | Name                                                 | Type               | Params\n",
      "----------------------------------------------------------------------------------------\n",
      "0  | model                                                | ShuffleAndLearnNet | 18 M  \n",
      "1  | model.resnet_encoder                                 | encoder            | 11 M  \n",
      "2  | model.resnet_encoder.resnet_encoder                  | Sequential         | 11 M  \n",
      "3  | model.resnet_encoder.resnet_encoder.0                | Conv2d             | 9 K   \n",
      "4  | model.resnet_encoder.resnet_encoder.1                | BatchNorm2d        | 128   \n",
      "5  | model.resnet_encoder.resnet_encoder.2                | ReLU               | 0     \n",
      "6  | model.resnet_encoder.resnet_encoder.3                | MaxPool2d          | 0     \n",
      "7  | model.resnet_encoder.resnet_encoder.4                | Sequential         | 147 K \n",
      "8  | model.resnet_encoder.resnet_encoder.4.0              | BasicBlock         | 73 K  \n",
      "9  | model.resnet_encoder.resnet_encoder.4.0.conv1        | Conv2d             | 36 K  \n",
      "10 | model.resnet_encoder.resnet_encoder.4.0.bn1          | BatchNorm2d        | 128   \n",
      "11 | model.resnet_encoder.resnet_encoder.4.0.relu         | ReLU               | 0     \n",
      "12 | model.resnet_encoder.resnet_encoder.4.0.conv2        | Conv2d             | 36 K  \n",
      "13 | model.resnet_encoder.resnet_encoder.4.0.bn2          | BatchNorm2d        | 128   \n",
      "14 | model.resnet_encoder.resnet_encoder.4.1              | BasicBlock         | 73 K  \n",
      "15 | model.resnet_encoder.resnet_encoder.4.1.conv1        | Conv2d             | 36 K  \n",
      "16 | model.resnet_encoder.resnet_encoder.4.1.bn1          | BatchNorm2d        | 128   \n",
      "17 | model.resnet_encoder.resnet_encoder.4.1.relu         | ReLU               | 0     \n",
      "18 | model.resnet_encoder.resnet_encoder.4.1.conv2        | Conv2d             | 36 K  \n",
      "19 | model.resnet_encoder.resnet_encoder.4.1.bn2          | BatchNorm2d        | 128   \n",
      "20 | model.resnet_encoder.resnet_encoder.5                | Sequential         | 525 K \n",
      "21 | model.resnet_encoder.resnet_encoder.5.0              | BasicBlock         | 230 K \n",
      "22 | model.resnet_encoder.resnet_encoder.5.0.conv1        | Conv2d             | 73 K  \n",
      "23 | model.resnet_encoder.resnet_encoder.5.0.bn1          | BatchNorm2d        | 256   \n",
      "24 | model.resnet_encoder.resnet_encoder.5.0.relu         | ReLU               | 0     \n",
      "25 | model.resnet_encoder.resnet_encoder.5.0.conv2        | Conv2d             | 147 K \n",
      "26 | model.resnet_encoder.resnet_encoder.5.0.bn2          | BatchNorm2d        | 256   \n",
      "27 | model.resnet_encoder.resnet_encoder.5.0.downsample   | Sequential         | 8 K   \n",
      "28 | model.resnet_encoder.resnet_encoder.5.0.downsample.0 | Conv2d             | 8 K   \n",
      "29 | model.resnet_encoder.resnet_encoder.5.0.downsample.1 | BatchNorm2d        | 256   \n",
      "30 | model.resnet_encoder.resnet_encoder.5.1              | BasicBlock         | 295 K \n",
      "31 | model.resnet_encoder.resnet_encoder.5.1.conv1        | Conv2d             | 147 K \n",
      "32 | model.resnet_encoder.resnet_encoder.5.1.bn1          | BatchNorm2d        | 256   \n",
      "33 | model.resnet_encoder.resnet_encoder.5.1.relu         | ReLU               | 0     \n",
      "34 | model.resnet_encoder.resnet_encoder.5.1.conv2        | Conv2d             | 147 K \n",
      "35 | model.resnet_encoder.resnet_encoder.5.1.bn2          | BatchNorm2d        | 256   \n",
      "36 | model.resnet_encoder.resnet_encoder.6                | Sequential         | 2 M   \n",
      "37 | model.resnet_encoder.resnet_encoder.6.0              | BasicBlock         | 919 K \n",
      "38 | model.resnet_encoder.resnet_encoder.6.0.conv1        | Conv2d             | 294 K \n",
      "39 | model.resnet_encoder.resnet_encoder.6.0.bn1          | BatchNorm2d        | 512   \n",
      "40 | model.resnet_encoder.resnet_encoder.6.0.relu         | ReLU               | 0     \n",
      "41 | model.resnet_encoder.resnet_encoder.6.0.conv2        | Conv2d             | 589 K \n",
      "42 | model.resnet_encoder.resnet_encoder.6.0.bn2          | BatchNorm2d        | 512   \n",
      "43 | model.resnet_encoder.resnet_encoder.6.0.downsample   | Sequential         | 33 K  \n",
      "44 | model.resnet_encoder.resnet_encoder.6.0.downsample.0 | Conv2d             | 32 K  \n",
      "45 | model.resnet_encoder.resnet_encoder.6.0.downsample.1 | BatchNorm2d        | 512   \n",
      "46 | model.resnet_encoder.resnet_encoder.6.1              | BasicBlock         | 1 M   \n",
      "47 | model.resnet_encoder.resnet_encoder.6.1.conv1        | Conv2d             | 589 K \n",
      "48 | model.resnet_encoder.resnet_encoder.6.1.bn1          | BatchNorm2d        | 512   \n",
      "49 | model.resnet_encoder.resnet_encoder.6.1.relu         | ReLU               | 0     \n",
      "50 | model.resnet_encoder.resnet_encoder.6.1.conv2        | Conv2d             | 589 K \n",
      "51 | model.resnet_encoder.resnet_encoder.6.1.bn2          | BatchNorm2d        | 512   \n",
      "52 | model.resnet_encoder.resnet_encoder.7                | Sequential         | 8 M   \n",
      "53 | model.resnet_encoder.resnet_encoder.7.0              | BasicBlock         | 3 M   \n",
      "54 | model.resnet_encoder.resnet_encoder.7.0.conv1        | Conv2d             | 1 M   \n",
      "55 | model.resnet_encoder.resnet_encoder.7.0.bn1          | BatchNorm2d        | 1 K   \n",
      "56 | model.resnet_encoder.resnet_encoder.7.0.relu         | ReLU               | 0     \n",
      "57 | model.resnet_encoder.resnet_encoder.7.0.conv2        | Conv2d             | 2 M   \n",
      "58 | model.resnet_encoder.resnet_encoder.7.0.bn2          | BatchNorm2d        | 1 K   \n",
      "59 | model.resnet_encoder.resnet_encoder.7.0.downsample   | Sequential         | 132 K \n",
      "60 | model.resnet_encoder.resnet_encoder.7.0.downsample.0 | Conv2d             | 131 K \n",
      "61 | model.resnet_encoder.resnet_encoder.7.0.downsample.1 | BatchNorm2d        | 1 K   \n",
      "62 | model.resnet_encoder.resnet_encoder.7.1              | BasicBlock         | 4 M   \n",
      "63 | model.resnet_encoder.resnet_encoder.7.1.conv1        | Conv2d             | 2 M   \n",
      "64 | model.resnet_encoder.resnet_encoder.7.1.bn1          | BatchNorm2d        | 1 K   \n",
      "65 | model.resnet_encoder.resnet_encoder.7.1.relu         | ReLU               | 0     \n",
      "66 | model.resnet_encoder.resnet_encoder.7.1.conv2        | Conv2d             | 2 M   \n",
      "67 | model.resnet_encoder.resnet_encoder.7.1.bn2          | BatchNorm2d        | 1 K   \n",
      "68 | model.resnet_encoder.resnet_encoder.8                | AdaptiveAvgPool2d  | 0     \n",
      "69 | model.decoder                                        | Sequential         | 7 M   \n",
      "70 | model.decoder.0                                      | Conv2d             | 7 M   \n",
      "71 | model.decoder.1                                      | BatchNorm2d        | 1 K   \n",
      "72 | model.decoder.2                                      | ReLU               | 0     \n",
      "73 | model.decoder.3                                      | AdaptiveAvgPool2d  | 0     \n",
      "74 | model.clf                                            | Linear             | 513   \n",
      "75 | criterion                                            | BCEWithLogitsLoss  | 0     \n"
     ]
    },
    {
     "data": {
      "application/vnd.jupyter.widget-view+json": {
       "model_id": "",
       "version_major": 2,
       "version_minor": 0
      },
      "text/plain": [
       "HBox(children=(FloatProgress(value=1.0, bar_style='info', description='Validation sanity check', layout=Layout…"
      ]
     },
     "metadata": {},
     "output_type": "display_data"
    },
    {
     "data": {
      "application/vnd.jupyter.widget-view+json": {
       "model_id": "d92fb2ecfc12454a9af8fda33baa8289",
       "version_major": 2,
       "version_minor": 0
      },
      "text/plain": [
       "HBox(children=(FloatProgress(value=1.0, bar_style='info', description='Training', layout=Layout(flex='2'), max…"
      ]
     },
     "metadata": {},
     "output_type": "display_data"
    },
    {
     "data": {
      "application/vnd.jupyter.widget-view+json": {
       "model_id": "6fabc9c13832408a8b6b7ef78302e7c8",
       "version_major": 2,
       "version_minor": 0
      },
      "text/plain": [
       "HBox(children=(FloatProgress(value=1.0, bar_style='info', description='Validating', layout=Layout(flex='2'), m…"
      ]
     },
     "metadata": {},
     "output_type": "display_data"
    }
   ],
   "source": [
    "trainer.fit(model, )"
   ]
  },
  {
   "cell_type": "code",
   "execution_count": null,
   "metadata": {},
   "outputs": [],
   "source": []
  },
  {
   "cell_type": "code",
   "execution_count": null,
   "metadata": {},
   "outputs": [],
   "source": []
  }
 ],
 "metadata": {
  "kernelspec": {
   "display_name": "Python [conda env:pDL] *",
   "language": "python",
   "name": "conda-env-pDL-py"
  },
  "language_info": {
   "codemirror_mode": {
    "name": "ipython",
    "version": 3
   },
   "file_extension": ".py",
   "mimetype": "text/x-python",
   "name": "python",
   "nbconvert_exporter": "python",
   "pygments_lexer": "ipython3",
   "version": "3.8.2"
  }
 },
 "nbformat": 4,
 "nbformat_minor": 4
}
