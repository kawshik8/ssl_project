{
 "cells": [
  {
   "cell_type": "markdown",
   "metadata": {},
   "source": [
    "# Shuffle and learn"
   ]
  },
  {
   "cell_type": "markdown",
   "metadata": {},
   "source": [
    "Train encoder to predict if 3 frames are in correct temporal order or not.  \n",
    "Paper: https://arxiv.org/abs/1603.08561"
   ]
  },
  {
   "cell_type": "code",
   "execution_count": 2,
   "metadata": {},
   "outputs": [],
   "source": [
    "import cv2\n",
    "\n",
    "import sys\n",
    "\n",
    "sys.path.append('/scratch/mz2476/DL/project/')\n",
    "\n",
    "import os\n",
    "import random\n",
    "\n",
    "import numpy as np\n",
    "import pandas as pd\n",
    "\n",
    "import matplotlib\n",
    "import matplotlib.pyplot as plt\n",
    "matplotlib.rcParams['figure.figsize'] = [5, 5]\n",
    "matplotlib.rcParams['figure.dpi'] = 200\n",
    "from ssl_project.data_loaders import plot_utils\n",
    "\n",
    "import imageio\n",
    "\n",
    "import torch\n",
    "import torch.nn as nn\n",
    "import torch.nn.functional as F\n",
    "import torchvision\n",
    "\n",
    "from ssl_project.data_loaders.data_helper import UnlabeledDataset, LabeledDataset\n",
    "from ssl_project.data_loaders.helper import collate_fn, draw_box\n",
    "from ssl_project import constants\n",
    "\n",
    "from ssl_project.preprocessing import top_down_segmentation\n",
    "\n",
    "\n",
    "from ssl_project.utils import to_np"
   ]
  },
  {
   "cell_type": "code",
   "execution_count": 3,
   "metadata": {
    "scrolled": true
   },
   "outputs": [],
   "source": [
    "from ssl_project.constants import *\n",
    "from ssl_project.paths import *"
   ]
  },
  {
   "cell_type": "code",
   "execution_count": 4,
   "metadata": {},
   "outputs": [],
   "source": [
    "from logger_hparams import HyperparamsSummaryTensorBoardLogger\n",
    "\n",
    "from ssl_project.ssl_ideas.preprocessing import TripleDataset\n",
    "from ssl_project.ssl_ideas.model import SET_SEED, ShuffleAndLearnModel"
   ]
  },
  {
   "cell_type": "code",
   "execution_count": 5,
   "metadata": {},
   "outputs": [],
   "source": [
    "import pytorch_lightning as pl \n",
    "from argparse import Namespace"
   ]
  },
  {
   "cell_type": "markdown",
   "metadata": {},
   "source": [
    "# Train model"
   ]
  },
  {
   "cell_type": "code",
   "execution_count": 6,
   "metadata": {},
   "outputs": [],
   "source": [
    "SET_SEED()"
   ]
  },
  {
   "cell_type": "code",
   "execution_count": 7,
   "metadata": {},
   "outputs": [],
   "source": [
    "LOGS_DIR   = \"lightning_logs\"\n",
    "hparams = Namespace(\n",
    "    fit_all_encoders=True,\n",
    "    lr=3e-3,\n",
    "    num_workers=8,\n",
    "    batch_size=64,\n",
    ")\n",
    "\n",
    "MODEL_NAME = f\"first_try_many_encoders={hparams.fit_all_encoders}\"\n",
    "version = \"03\""
   ]
  },
  {
   "cell_type": "code",
   "execution_count": 8,
   "metadata": {},
   "outputs": [],
   "source": [
    "logger = HyperparamsSummaryTensorBoardLogger(LOGS_DIR, name=MODEL_NAME, version=version)\n",
    "model  = ShuffleAndLearnModel(hparams=hparams)"
   ]
  },
  {
   "cell_type": "code",
   "execution_count": 15,
   "metadata": {},
   "outputs": [
    {
     "data": {
      "text/plain": [
       "['cam_name_to_encoder', 'decoder', 'clf']"
      ]
     },
     "execution_count": 15,
     "metadata": {},
     "output_type": "execute_result"
    }
   ],
   "source": [
    "list(name for name, value in model.model.named_children())"
   ]
  },
  {
   "cell_type": "code",
   "execution_count": 16,
   "metadata": {},
   "outputs": [
    {
     "data": {
      "text/plain": [
       "<generator object Module.parameters at 0x2b220ccfc120>"
      ]
     },
     "execution_count": 16,
     "metadata": {},
     "output_type": "execute_result"
    }
   ],
   "source": [
    "model.parameters()"
   ]
  },
  {
   "cell_type": "code",
   "execution_count": 8,
   "metadata": {},
   "outputs": [
    {
     "name": "stderr",
     "output_type": "stream",
     "text": [
      "INFO:lightning:GPU available: True, used: True\n",
      "INFO:lightning:CUDA_VISIBLE_DEVICES: [0]\n"
     ]
    }
   ],
   "source": [
    "trainer = pl.Trainer(\n",
    "    gpus=[0], \n",
    "#     auto_lr_find=True,\n",
    "    show_progress_bar=True,\n",
    "    val_check_interval=0.25,\n",
    "#     train_percent_check=0.001,\n",
    "#     val_percent_check=0.01,\n",
    "    logger=logger,\n",
    "    precision=32,\n",
    ")"
   ]
  },
  {
   "cell_type": "code",
   "execution_count": 9,
   "metadata": {},
   "outputs": [
    {
     "name": "stderr",
     "output_type": "stream",
     "text": [
      "INFO:lightning:Set SLURM handle signals.\n",
      "INFO:lightning:\n",
      "    | Name                                                                      | Type               | Params\n",
      "-------------------------------------------------------------------------------------------------------------\n",
      "0   | model                                                                     | ShuffleAndLearnNet | 74 M  \n",
      "1   | model.cam_name_to_encoder                                                 | ModuleDict         | 67 M  \n",
      "2   | model.cam_name_to_encoder.CAM_BACK                                        | encoder            | 11 M  \n",
      "3   | model.cam_name_to_encoder.CAM_BACK.resnet_encoder                         | Sequential         | 11 M  \n",
      "4   | model.cam_name_to_encoder.CAM_BACK.resnet_encoder.0                       | Conv2d             | 9 K   \n",
      "5   | model.cam_name_to_encoder.CAM_BACK.resnet_encoder.1                       | BatchNorm2d        | 128   \n",
      "6   | model.cam_name_to_encoder.CAM_BACK.resnet_encoder.2                       | ReLU               | 0     \n",
      "7   | model.cam_name_to_encoder.CAM_BACK.resnet_encoder.3                       | MaxPool2d          | 0     \n",
      "8   | model.cam_name_to_encoder.CAM_BACK.resnet_encoder.4                       | Sequential         | 147 K \n",
      "9   | model.cam_name_to_encoder.CAM_BACK.resnet_encoder.4.0                     | BasicBlock         | 73 K  \n",
      "10  | model.cam_name_to_encoder.CAM_BACK.resnet_encoder.4.0.conv1               | Conv2d             | 36 K  \n",
      "11  | model.cam_name_to_encoder.CAM_BACK.resnet_encoder.4.0.bn1                 | BatchNorm2d        | 128   \n",
      "12  | model.cam_name_to_encoder.CAM_BACK.resnet_encoder.4.0.relu                | ReLU               | 0     \n",
      "13  | model.cam_name_to_encoder.CAM_BACK.resnet_encoder.4.0.conv2               | Conv2d             | 36 K  \n",
      "14  | model.cam_name_to_encoder.CAM_BACK.resnet_encoder.4.0.bn2                 | BatchNorm2d        | 128   \n",
      "15  | model.cam_name_to_encoder.CAM_BACK.resnet_encoder.4.1                     | BasicBlock         | 73 K  \n",
      "16  | model.cam_name_to_encoder.CAM_BACK.resnet_encoder.4.1.conv1               | Conv2d             | 36 K  \n",
      "17  | model.cam_name_to_encoder.CAM_BACK.resnet_encoder.4.1.bn1                 | BatchNorm2d        | 128   \n",
      "18  | model.cam_name_to_encoder.CAM_BACK.resnet_encoder.4.1.relu                | ReLU               | 0     \n",
      "19  | model.cam_name_to_encoder.CAM_BACK.resnet_encoder.4.1.conv2               | Conv2d             | 36 K  \n",
      "20  | model.cam_name_to_encoder.CAM_BACK.resnet_encoder.4.1.bn2                 | BatchNorm2d        | 128   \n",
      "21  | model.cam_name_to_encoder.CAM_BACK.resnet_encoder.5                       | Sequential         | 525 K \n",
      "22  | model.cam_name_to_encoder.CAM_BACK.resnet_encoder.5.0                     | BasicBlock         | 230 K \n",
      "23  | model.cam_name_to_encoder.CAM_BACK.resnet_encoder.5.0.conv1               | Conv2d             | 73 K  \n",
      "24  | model.cam_name_to_encoder.CAM_BACK.resnet_encoder.5.0.bn1                 | BatchNorm2d        | 256   \n",
      "25  | model.cam_name_to_encoder.CAM_BACK.resnet_encoder.5.0.relu                | ReLU               | 0     \n",
      "26  | model.cam_name_to_encoder.CAM_BACK.resnet_encoder.5.0.conv2               | Conv2d             | 147 K \n",
      "27  | model.cam_name_to_encoder.CAM_BACK.resnet_encoder.5.0.bn2                 | BatchNorm2d        | 256   \n",
      "28  | model.cam_name_to_encoder.CAM_BACK.resnet_encoder.5.0.downsample          | Sequential         | 8 K   \n",
      "29  | model.cam_name_to_encoder.CAM_BACK.resnet_encoder.5.0.downsample.0        | Conv2d             | 8 K   \n",
      "30  | model.cam_name_to_encoder.CAM_BACK.resnet_encoder.5.0.downsample.1        | BatchNorm2d        | 256   \n",
      "31  | model.cam_name_to_encoder.CAM_BACK.resnet_encoder.5.1                     | BasicBlock         | 295 K \n",
      "32  | model.cam_name_to_encoder.CAM_BACK.resnet_encoder.5.1.conv1               | Conv2d             | 147 K \n",
      "33  | model.cam_name_to_encoder.CAM_BACK.resnet_encoder.5.1.bn1                 | BatchNorm2d        | 256   \n",
      "34  | model.cam_name_to_encoder.CAM_BACK.resnet_encoder.5.1.relu                | ReLU               | 0     \n",
      "35  | model.cam_name_to_encoder.CAM_BACK.resnet_encoder.5.1.conv2               | Conv2d             | 147 K \n",
      "36  | model.cam_name_to_encoder.CAM_BACK.resnet_encoder.5.1.bn2                 | BatchNorm2d        | 256   \n",
      "37  | model.cam_name_to_encoder.CAM_BACK.resnet_encoder.6                       | Sequential         | 2 M   \n",
      "38  | model.cam_name_to_encoder.CAM_BACK.resnet_encoder.6.0                     | BasicBlock         | 919 K \n",
      "39  | model.cam_name_to_encoder.CAM_BACK.resnet_encoder.6.0.conv1               | Conv2d             | 294 K \n",
      "40  | model.cam_name_to_encoder.CAM_BACK.resnet_encoder.6.0.bn1                 | BatchNorm2d        | 512   \n",
      "41  | model.cam_name_to_encoder.CAM_BACK.resnet_encoder.6.0.relu                | ReLU               | 0     \n",
      "42  | model.cam_name_to_encoder.CAM_BACK.resnet_encoder.6.0.conv2               | Conv2d             | 589 K \n",
      "43  | model.cam_name_to_encoder.CAM_BACK.resnet_encoder.6.0.bn2                 | BatchNorm2d        | 512   \n",
      "44  | model.cam_name_to_encoder.CAM_BACK.resnet_encoder.6.0.downsample          | Sequential         | 33 K  \n",
      "45  | model.cam_name_to_encoder.CAM_BACK.resnet_encoder.6.0.downsample.0        | Conv2d             | 32 K  \n",
      "46  | model.cam_name_to_encoder.CAM_BACK.resnet_encoder.6.0.downsample.1        | BatchNorm2d        | 512   \n",
      "47  | model.cam_name_to_encoder.CAM_BACK.resnet_encoder.6.1                     | BasicBlock         | 1 M   \n",
      "48  | model.cam_name_to_encoder.CAM_BACK.resnet_encoder.6.1.conv1               | Conv2d             | 589 K \n",
      "49  | model.cam_name_to_encoder.CAM_BACK.resnet_encoder.6.1.bn1                 | BatchNorm2d        | 512   \n",
      "50  | model.cam_name_to_encoder.CAM_BACK.resnet_encoder.6.1.relu                | ReLU               | 0     \n",
      "51  | model.cam_name_to_encoder.CAM_BACK.resnet_encoder.6.1.conv2               | Conv2d             | 589 K \n",
      "52  | model.cam_name_to_encoder.CAM_BACK.resnet_encoder.6.1.bn2                 | BatchNorm2d        | 512   \n",
      "53  | model.cam_name_to_encoder.CAM_BACK.resnet_encoder.7                       | Sequential         | 8 M   \n",
      "54  | model.cam_name_to_encoder.CAM_BACK.resnet_encoder.7.0                     | BasicBlock         | 3 M   \n",
      "55  | model.cam_name_to_encoder.CAM_BACK.resnet_encoder.7.0.conv1               | Conv2d             | 1 M   \n",
      "56  | model.cam_name_to_encoder.CAM_BACK.resnet_encoder.7.0.bn1                 | BatchNorm2d        | 1 K   \n",
      "57  | model.cam_name_to_encoder.CAM_BACK.resnet_encoder.7.0.relu                | ReLU               | 0     \n",
      "58  | model.cam_name_to_encoder.CAM_BACK.resnet_encoder.7.0.conv2               | Conv2d             | 2 M   \n",
      "59  | model.cam_name_to_encoder.CAM_BACK.resnet_encoder.7.0.bn2                 | BatchNorm2d        | 1 K   \n",
      "60  | model.cam_name_to_encoder.CAM_BACK.resnet_encoder.7.0.downsample          | Sequential         | 132 K \n",
      "61  | model.cam_name_to_encoder.CAM_BACK.resnet_encoder.7.0.downsample.0        | Conv2d             | 131 K \n",
      "62  | model.cam_name_to_encoder.CAM_BACK.resnet_encoder.7.0.downsample.1        | BatchNorm2d        | 1 K   \n",
      "63  | model.cam_name_to_encoder.CAM_BACK.resnet_encoder.7.1                     | BasicBlock         | 4 M   \n",
      "64  | model.cam_name_to_encoder.CAM_BACK.resnet_encoder.7.1.conv1               | Conv2d             | 2 M   \n",
      "65  | model.cam_name_to_encoder.CAM_BACK.resnet_encoder.7.1.bn1                 | BatchNorm2d        | 1 K   \n",
      "66  | model.cam_name_to_encoder.CAM_BACK.resnet_encoder.7.1.relu                | ReLU               | 0     \n",
      "67  | model.cam_name_to_encoder.CAM_BACK.resnet_encoder.7.1.conv2               | Conv2d             | 2 M   \n",
      "68  | model.cam_name_to_encoder.CAM_BACK.resnet_encoder.7.1.bn2                 | BatchNorm2d        | 1 K   \n",
      "69  | model.cam_name_to_encoder.CAM_BACK.resnet_encoder.8                       | AdaptiveAvgPool2d  | 0     \n",
      "70  | model.cam_name_to_encoder.CAM_BACK_LEFT                                   | encoder            | 11 M  \n",
      "71  | model.cam_name_to_encoder.CAM_BACK_LEFT.resnet_encoder                    | Sequential         | 11 M  \n",
      "72  | model.cam_name_to_encoder.CAM_BACK_LEFT.resnet_encoder.0                  | Conv2d             | 9 K   \n",
      "73  | model.cam_name_to_encoder.CAM_BACK_LEFT.resnet_encoder.1                  | BatchNorm2d        | 128   \n",
      "74  | model.cam_name_to_encoder.CAM_BACK_LEFT.resnet_encoder.2                  | ReLU               | 0     \n",
      "75  | model.cam_name_to_encoder.CAM_BACK_LEFT.resnet_encoder.3                  | MaxPool2d          | 0     \n",
      "76  | model.cam_name_to_encoder.CAM_BACK_LEFT.resnet_encoder.4                  | Sequential         | 147 K \n",
      "77  | model.cam_name_to_encoder.CAM_BACK_LEFT.resnet_encoder.4.0                | BasicBlock         | 73 K  \n",
      "78  | model.cam_name_to_encoder.CAM_BACK_LEFT.resnet_encoder.4.0.conv1          | Conv2d             | 36 K  \n",
      "79  | model.cam_name_to_encoder.CAM_BACK_LEFT.resnet_encoder.4.0.bn1            | BatchNorm2d        | 128   \n",
      "80  | model.cam_name_to_encoder.CAM_BACK_LEFT.resnet_encoder.4.0.relu           | ReLU               | 0     \n",
      "81  | model.cam_name_to_encoder.CAM_BACK_LEFT.resnet_encoder.4.0.conv2          | Conv2d             | 36 K  \n",
      "82  | model.cam_name_to_encoder.CAM_BACK_LEFT.resnet_encoder.4.0.bn2            | BatchNorm2d        | 128   \n",
      "83  | model.cam_name_to_encoder.CAM_BACK_LEFT.resnet_encoder.4.1                | BasicBlock         | 73 K  \n",
      "84  | model.cam_name_to_encoder.CAM_BACK_LEFT.resnet_encoder.4.1.conv1          | Conv2d             | 36 K  \n",
      "85  | model.cam_name_to_encoder.CAM_BACK_LEFT.resnet_encoder.4.1.bn1            | BatchNorm2d        | 128   \n",
      "86  | model.cam_name_to_encoder.CAM_BACK_LEFT.resnet_encoder.4.1.relu           | ReLU               | 0     \n",
      "87  | model.cam_name_to_encoder.CAM_BACK_LEFT.resnet_encoder.4.1.conv2          | Conv2d             | 36 K  \n",
      "88  | model.cam_name_to_encoder.CAM_BACK_LEFT.resnet_encoder.4.1.bn2            | BatchNorm2d        | 128   \n",
      "89  | model.cam_name_to_encoder.CAM_BACK_LEFT.resnet_encoder.5                  | Sequential         | 525 K \n",
      "90  | model.cam_name_to_encoder.CAM_BACK_LEFT.resnet_encoder.5.0                | BasicBlock         | 230 K \n",
      "91  | model.cam_name_to_encoder.CAM_BACK_LEFT.resnet_encoder.5.0.conv1          | Conv2d             | 73 K  \n",
      "92  | model.cam_name_to_encoder.CAM_BACK_LEFT.resnet_encoder.5.0.bn1            | BatchNorm2d        | 256   \n",
      "93  | model.cam_name_to_encoder.CAM_BACK_LEFT.resnet_encoder.5.0.relu           | ReLU               | 0     \n",
      "94  | model.cam_name_to_encoder.CAM_BACK_LEFT.resnet_encoder.5.0.conv2          | Conv2d             | 147 K \n",
      "95  | model.cam_name_to_encoder.CAM_BACK_LEFT.resnet_encoder.5.0.bn2            | BatchNorm2d        | 256   \n",
      "96  | model.cam_name_to_encoder.CAM_BACK_LEFT.resnet_encoder.5.0.downsample     | Sequential         | 8 K   \n",
      "97  | model.cam_name_to_encoder.CAM_BACK_LEFT.resnet_encoder.5.0.downsample.0   | Conv2d             | 8 K   \n",
      "98  | model.cam_name_to_encoder.CAM_BACK_LEFT.resnet_encoder.5.0.downsample.1   | BatchNorm2d        | 256   \n",
      "99  | model.cam_name_to_encoder.CAM_BACK_LEFT.resnet_encoder.5.1                | BasicBlock         | 295 K \n",
      "100 | model.cam_name_to_encoder.CAM_BACK_LEFT.resnet_encoder.5.1.conv1          | Conv2d             | 147 K \n",
      "101 | model.cam_name_to_encoder.CAM_BACK_LEFT.resnet_encoder.5.1.bn1            | BatchNorm2d        | 256   \n",
      "102 | model.cam_name_to_encoder.CAM_BACK_LEFT.resnet_encoder.5.1.relu           | ReLU               | 0     \n",
      "103 | model.cam_name_to_encoder.CAM_BACK_LEFT.resnet_encoder.5.1.conv2          | Conv2d             | 147 K \n",
      "104 | model.cam_name_to_encoder.CAM_BACK_LEFT.resnet_encoder.5.1.bn2            | BatchNorm2d        | 256   \n",
      "105 | model.cam_name_to_encoder.CAM_BACK_LEFT.resnet_encoder.6                  | Sequential         | 2 M   \n",
      "106 | model.cam_name_to_encoder.CAM_BACK_LEFT.resnet_encoder.6.0                | BasicBlock         | 919 K \n",
      "107 | model.cam_name_to_encoder.CAM_BACK_LEFT.resnet_encoder.6.0.conv1          | Conv2d             | 294 K \n",
      "108 | model.cam_name_to_encoder.CAM_BACK_LEFT.resnet_encoder.6.0.bn1            | BatchNorm2d        | 512   \n",
      "109 | model.cam_name_to_encoder.CAM_BACK_LEFT.resnet_encoder.6.0.relu           | ReLU               | 0     \n",
      "110 | model.cam_name_to_encoder.CAM_BACK_LEFT.resnet_encoder.6.0.conv2          | Conv2d             | 589 K \n",
      "111 | model.cam_name_to_encoder.CAM_BACK_LEFT.resnet_encoder.6.0.bn2            | BatchNorm2d        | 512   \n",
      "112 | model.cam_name_to_encoder.CAM_BACK_LEFT.resnet_encoder.6.0.downsample     | Sequential         | 33 K  \n",
      "113 | model.cam_name_to_encoder.CAM_BACK_LEFT.resnet_encoder.6.0.downsample.0   | Conv2d             | 32 K  \n",
      "114 | model.cam_name_to_encoder.CAM_BACK_LEFT.resnet_encoder.6.0.downsample.1   | BatchNorm2d        | 512   \n",
      "115 | model.cam_name_to_encoder.CAM_BACK_LEFT.resnet_encoder.6.1                | BasicBlock         | 1 M   \n",
      "116 | model.cam_name_to_encoder.CAM_BACK_LEFT.resnet_encoder.6.1.conv1          | Conv2d             | 589 K \n",
      "117 | model.cam_name_to_encoder.CAM_BACK_LEFT.resnet_encoder.6.1.bn1            | BatchNorm2d        | 512   \n",
      "118 | model.cam_name_to_encoder.CAM_BACK_LEFT.resnet_encoder.6.1.relu           | ReLU               | 0     \n",
      "119 | model.cam_name_to_encoder.CAM_BACK_LEFT.resnet_encoder.6.1.conv2          | Conv2d             | 589 K \n",
      "120 | model.cam_name_to_encoder.CAM_BACK_LEFT.resnet_encoder.6.1.bn2            | BatchNorm2d        | 512   \n",
      "121 | model.cam_name_to_encoder.CAM_BACK_LEFT.resnet_encoder.7                  | Sequential         | 8 M   \n",
      "122 | model.cam_name_to_encoder.CAM_BACK_LEFT.resnet_encoder.7.0                | BasicBlock         | 3 M   \n",
      "123 | model.cam_name_to_encoder.CAM_BACK_LEFT.resnet_encoder.7.0.conv1          | Conv2d             | 1 M   \n",
      "124 | model.cam_name_to_encoder.CAM_BACK_LEFT.resnet_encoder.7.0.bn1            | BatchNorm2d        | 1 K   \n",
      "125 | model.cam_name_to_encoder.CAM_BACK_LEFT.resnet_encoder.7.0.relu           | ReLU               | 0     \n",
      "126 | model.cam_name_to_encoder.CAM_BACK_LEFT.resnet_encoder.7.0.conv2          | Conv2d             | 2 M   \n",
      "127 | model.cam_name_to_encoder.CAM_BACK_LEFT.resnet_encoder.7.0.bn2            | BatchNorm2d        | 1 K   \n",
      "128 | model.cam_name_to_encoder.CAM_BACK_LEFT.resnet_encoder.7.0.downsample     | Sequential         | 132 K \n",
      "129 | model.cam_name_to_encoder.CAM_BACK_LEFT.resnet_encoder.7.0.downsample.0   | Conv2d             | 131 K \n",
      "130 | model.cam_name_to_encoder.CAM_BACK_LEFT.resnet_encoder.7.0.downsample.1   | BatchNorm2d        | 1 K   \n",
      "131 | model.cam_name_to_encoder.CAM_BACK_LEFT.resnet_encoder.7.1                | BasicBlock         | 4 M   \n",
      "132 | model.cam_name_to_encoder.CAM_BACK_LEFT.resnet_encoder.7.1.conv1          | Conv2d             | 2 M   \n",
      "133 | model.cam_name_to_encoder.CAM_BACK_LEFT.resnet_encoder.7.1.bn1            | BatchNorm2d        | 1 K   \n",
      "134 | model.cam_name_to_encoder.CAM_BACK_LEFT.resnet_encoder.7.1.relu           | ReLU               | 0     \n",
      "135 | model.cam_name_to_encoder.CAM_BACK_LEFT.resnet_encoder.7.1.conv2          | Conv2d             | 2 M   \n",
      "136 | model.cam_name_to_encoder.CAM_BACK_LEFT.resnet_encoder.7.1.bn2            | BatchNorm2d        | 1 K   \n",
      "137 | model.cam_name_to_encoder.CAM_BACK_LEFT.resnet_encoder.8                  | AdaptiveAvgPool2d  | 0     \n",
      "138 | model.cam_name_to_encoder.CAM_BACK_RIGHT                                  | encoder            | 11 M  \n",
      "139 | model.cam_name_to_encoder.CAM_BACK_RIGHT.resnet_encoder                   | Sequential         | 11 M  \n",
      "140 | model.cam_name_to_encoder.CAM_BACK_RIGHT.resnet_encoder.0                 | Conv2d             | 9 K   \n",
      "141 | model.cam_name_to_encoder.CAM_BACK_RIGHT.resnet_encoder.1                 | BatchNorm2d        | 128   \n",
      "142 | model.cam_name_to_encoder.CAM_BACK_RIGHT.resnet_encoder.2                 | ReLU               | 0     \n",
      "143 | model.cam_name_to_encoder.CAM_BACK_RIGHT.resnet_encoder.3                 | MaxPool2d          | 0     \n",
      "144 | model.cam_name_to_encoder.CAM_BACK_RIGHT.resnet_encoder.4                 | Sequential         | 147 K \n",
      "145 | model.cam_name_to_encoder.CAM_BACK_RIGHT.resnet_encoder.4.0               | BasicBlock         | 73 K  \n",
      "146 | model.cam_name_to_encoder.CAM_BACK_RIGHT.resnet_encoder.4.0.conv1         | Conv2d             | 36 K  \n",
      "147 | model.cam_name_to_encoder.CAM_BACK_RIGHT.resnet_encoder.4.0.bn1           | BatchNorm2d        | 128   \n",
      "148 | model.cam_name_to_encoder.CAM_BACK_RIGHT.resnet_encoder.4.0.relu          | ReLU               | 0     \n",
      "149 | model.cam_name_to_encoder.CAM_BACK_RIGHT.resnet_encoder.4.0.conv2         | Conv2d             | 36 K  \n",
      "150 | model.cam_name_to_encoder.CAM_BACK_RIGHT.resnet_encoder.4.0.bn2           | BatchNorm2d        | 128   \n",
      "151 | model.cam_name_to_encoder.CAM_BACK_RIGHT.resnet_encoder.4.1               | BasicBlock         | 73 K  \n",
      "152 | model.cam_name_to_encoder.CAM_BACK_RIGHT.resnet_encoder.4.1.conv1         | Conv2d             | 36 K  \n",
      "153 | model.cam_name_to_encoder.CAM_BACK_RIGHT.resnet_encoder.4.1.bn1           | BatchNorm2d        | 128   \n",
      "154 | model.cam_name_to_encoder.CAM_BACK_RIGHT.resnet_encoder.4.1.relu          | ReLU               | 0     \n",
      "155 | model.cam_name_to_encoder.CAM_BACK_RIGHT.resnet_encoder.4.1.conv2         | Conv2d             | 36 K  \n",
      "156 | model.cam_name_to_encoder.CAM_BACK_RIGHT.resnet_encoder.4.1.bn2           | BatchNorm2d        | 128   \n",
      "157 | model.cam_name_to_encoder.CAM_BACK_RIGHT.resnet_encoder.5                 | Sequential         | 525 K \n",
      "158 | model.cam_name_to_encoder.CAM_BACK_RIGHT.resnet_encoder.5.0               | BasicBlock         | 230 K \n",
      "159 | model.cam_name_to_encoder.CAM_BACK_RIGHT.resnet_encoder.5.0.conv1         | Conv2d             | 73 K  \n",
      "160 | model.cam_name_to_encoder.CAM_BACK_RIGHT.resnet_encoder.5.0.bn1           | BatchNorm2d        | 256   \n",
      "161 | model.cam_name_to_encoder.CAM_BACK_RIGHT.resnet_encoder.5.0.relu          | ReLU               | 0     \n",
      "162 | model.cam_name_to_encoder.CAM_BACK_RIGHT.resnet_encoder.5.0.conv2         | Conv2d             | 147 K \n",
      "163 | model.cam_name_to_encoder.CAM_BACK_RIGHT.resnet_encoder.5.0.bn2           | BatchNorm2d        | 256   \n",
      "164 | model.cam_name_to_encoder.CAM_BACK_RIGHT.resnet_encoder.5.0.downsample    | Sequential         | 8 K   \n",
      "165 | model.cam_name_to_encoder.CAM_BACK_RIGHT.resnet_encoder.5.0.downsample.0  | Conv2d             | 8 K   \n",
      "166 | model.cam_name_to_encoder.CAM_BACK_RIGHT.resnet_encoder.5.0.downsample.1  | BatchNorm2d        | 256   \n",
      "167 | model.cam_name_to_encoder.CAM_BACK_RIGHT.resnet_encoder.5.1               | BasicBlock         | 295 K \n",
      "168 | model.cam_name_to_encoder.CAM_BACK_RIGHT.resnet_encoder.5.1.conv1         | Conv2d             | 147 K \n",
      "169 | model.cam_name_to_encoder.CAM_BACK_RIGHT.resnet_encoder.5.1.bn1           | BatchNorm2d        | 256   \n",
      "170 | model.cam_name_to_encoder.CAM_BACK_RIGHT.resnet_encoder.5.1.relu          | ReLU               | 0     \n",
      "171 | model.cam_name_to_encoder.CAM_BACK_RIGHT.resnet_encoder.5.1.conv2         | Conv2d             | 147 K \n",
      "172 | model.cam_name_to_encoder.CAM_BACK_RIGHT.resnet_encoder.5.1.bn2           | BatchNorm2d        | 256   \n",
      "173 | model.cam_name_to_encoder.CAM_BACK_RIGHT.resnet_encoder.6                 | Sequential         | 2 M   \n",
      "174 | model.cam_name_to_encoder.CAM_BACK_RIGHT.resnet_encoder.6.0               | BasicBlock         | 919 K \n",
      "175 | model.cam_name_to_encoder.CAM_BACK_RIGHT.resnet_encoder.6.0.conv1         | Conv2d             | 294 K \n",
      "176 | model.cam_name_to_encoder.CAM_BACK_RIGHT.resnet_encoder.6.0.bn1           | BatchNorm2d        | 512   \n",
      "177 | model.cam_name_to_encoder.CAM_BACK_RIGHT.resnet_encoder.6.0.relu          | ReLU               | 0     \n",
      "178 | model.cam_name_to_encoder.CAM_BACK_RIGHT.resnet_encoder.6.0.conv2         | Conv2d             | 589 K \n",
      "179 | model.cam_name_to_encoder.CAM_BACK_RIGHT.resnet_encoder.6.0.bn2           | BatchNorm2d        | 512   \n",
      "180 | model.cam_name_to_encoder.CAM_BACK_RIGHT.resnet_encoder.6.0.downsample    | Sequential         | 33 K  \n",
      "181 | model.cam_name_to_encoder.CAM_BACK_RIGHT.resnet_encoder.6.0.downsample.0  | Conv2d             | 32 K  \n",
      "182 | model.cam_name_to_encoder.CAM_BACK_RIGHT.resnet_encoder.6.0.downsample.1  | BatchNorm2d        | 512   \n",
      "183 | model.cam_name_to_encoder.CAM_BACK_RIGHT.resnet_encoder.6.1               | BasicBlock         | 1 M   \n",
      "184 | model.cam_name_to_encoder.CAM_BACK_RIGHT.resnet_encoder.6.1.conv1         | Conv2d             | 589 K \n",
      "185 | model.cam_name_to_encoder.CAM_BACK_RIGHT.resnet_encoder.6.1.bn1           | BatchNorm2d        | 512   \n",
      "186 | model.cam_name_to_encoder.CAM_BACK_RIGHT.resnet_encoder.6.1.relu          | ReLU               | 0     \n",
      "187 | model.cam_name_to_encoder.CAM_BACK_RIGHT.resnet_encoder.6.1.conv2         | Conv2d             | 589 K \n",
      "188 | model.cam_name_to_encoder.CAM_BACK_RIGHT.resnet_encoder.6.1.bn2           | BatchNorm2d        | 512   \n",
      "189 | model.cam_name_to_encoder.CAM_BACK_RIGHT.resnet_encoder.7                 | Sequential         | 8 M   \n",
      "190 | model.cam_name_to_encoder.CAM_BACK_RIGHT.resnet_encoder.7.0               | BasicBlock         | 3 M   \n",
      "191 | model.cam_name_to_encoder.CAM_BACK_RIGHT.resnet_encoder.7.0.conv1         | Conv2d             | 1 M   \n",
      "192 | model.cam_name_to_encoder.CAM_BACK_RIGHT.resnet_encoder.7.0.bn1           | BatchNorm2d        | 1 K   \n",
      "193 | model.cam_name_to_encoder.CAM_BACK_RIGHT.resnet_encoder.7.0.relu          | ReLU               | 0     \n",
      "194 | model.cam_name_to_encoder.CAM_BACK_RIGHT.resnet_encoder.7.0.conv2         | Conv2d             | 2 M   \n",
      "195 | model.cam_name_to_encoder.CAM_BACK_RIGHT.resnet_encoder.7.0.bn2           | BatchNorm2d        | 1 K   \n",
      "196 | model.cam_name_to_encoder.CAM_BACK_RIGHT.resnet_encoder.7.0.downsample    | Sequential         | 132 K \n",
      "197 | model.cam_name_to_encoder.CAM_BACK_RIGHT.resnet_encoder.7.0.downsample.0  | Conv2d             | 131 K \n",
      "198 | model.cam_name_to_encoder.CAM_BACK_RIGHT.resnet_encoder.7.0.downsample.1  | BatchNorm2d        | 1 K   \n",
      "199 | model.cam_name_to_encoder.CAM_BACK_RIGHT.resnet_encoder.7.1               | BasicBlock         | 4 M   \n",
      "200 | model.cam_name_to_encoder.CAM_BACK_RIGHT.resnet_encoder.7.1.conv1         | Conv2d             | 2 M   \n",
      "201 | model.cam_name_to_encoder.CAM_BACK_RIGHT.resnet_encoder.7.1.bn1           | BatchNorm2d        | 1 K   \n",
      "202 | model.cam_name_to_encoder.CAM_BACK_RIGHT.resnet_encoder.7.1.relu          | ReLU               | 0     \n",
      "203 | model.cam_name_to_encoder.CAM_BACK_RIGHT.resnet_encoder.7.1.conv2         | Conv2d             | 2 M   \n",
      "204 | model.cam_name_to_encoder.CAM_BACK_RIGHT.resnet_encoder.7.1.bn2           | BatchNorm2d        | 1 K   \n",
      "205 | model.cam_name_to_encoder.CAM_BACK_RIGHT.resnet_encoder.8                 | AdaptiveAvgPool2d  | 0     \n",
      "206 | model.cam_name_to_encoder.CAM_FRONT                                       | encoder            | 11 M  \n",
      "207 | model.cam_name_to_encoder.CAM_FRONT.resnet_encoder                        | Sequential         | 11 M  \n",
      "208 | model.cam_name_to_encoder.CAM_FRONT.resnet_encoder.0                      | Conv2d             | 9 K   \n",
      "209 | model.cam_name_to_encoder.CAM_FRONT.resnet_encoder.1                      | BatchNorm2d        | 128   \n",
      "210 | model.cam_name_to_encoder.CAM_FRONT.resnet_encoder.2                      | ReLU               | 0     \n",
      "211 | model.cam_name_to_encoder.CAM_FRONT.resnet_encoder.3                      | MaxPool2d          | 0     \n",
      "212 | model.cam_name_to_encoder.CAM_FRONT.resnet_encoder.4                      | Sequential         | 147 K \n",
      "213 | model.cam_name_to_encoder.CAM_FRONT.resnet_encoder.4.0                    | BasicBlock         | 73 K  \n",
      "214 | model.cam_name_to_encoder.CAM_FRONT.resnet_encoder.4.0.conv1              | Conv2d             | 36 K  \n",
      "215 | model.cam_name_to_encoder.CAM_FRONT.resnet_encoder.4.0.bn1                | BatchNorm2d        | 128   \n",
      "216 | model.cam_name_to_encoder.CAM_FRONT.resnet_encoder.4.0.relu               | ReLU               | 0     \n",
      "217 | model.cam_name_to_encoder.CAM_FRONT.resnet_encoder.4.0.conv2              | Conv2d             | 36 K  \n",
      "218 | model.cam_name_to_encoder.CAM_FRONT.resnet_encoder.4.0.bn2                | BatchNorm2d        | 128   \n",
      "219 | model.cam_name_to_encoder.CAM_FRONT.resnet_encoder.4.1                    | BasicBlock         | 73 K  \n",
      "220 | model.cam_name_to_encoder.CAM_FRONT.resnet_encoder.4.1.conv1              | Conv2d             | 36 K  \n",
      "221 | model.cam_name_to_encoder.CAM_FRONT.resnet_encoder.4.1.bn1                | BatchNorm2d        | 128   \n",
      "222 | model.cam_name_to_encoder.CAM_FRONT.resnet_encoder.4.1.relu               | ReLU               | 0     \n",
      "223 | model.cam_name_to_encoder.CAM_FRONT.resnet_encoder.4.1.conv2              | Conv2d             | 36 K  \n",
      "224 | model.cam_name_to_encoder.CAM_FRONT.resnet_encoder.4.1.bn2                | BatchNorm2d        | 128   \n",
      "225 | model.cam_name_to_encoder.CAM_FRONT.resnet_encoder.5                      | Sequential         | 525 K \n",
      "226 | model.cam_name_to_encoder.CAM_FRONT.resnet_encoder.5.0                    | BasicBlock         | 230 K \n",
      "227 | model.cam_name_to_encoder.CAM_FRONT.resnet_encoder.5.0.conv1              | Conv2d             | 73 K  \n",
      "228 | model.cam_name_to_encoder.CAM_FRONT.resnet_encoder.5.0.bn1                | BatchNorm2d        | 256   \n",
      "229 | model.cam_name_to_encoder.CAM_FRONT.resnet_encoder.5.0.relu               | ReLU               | 0     \n",
      "230 | model.cam_name_to_encoder.CAM_FRONT.resnet_encoder.5.0.conv2              | Conv2d             | 147 K \n",
      "231 | model.cam_name_to_encoder.CAM_FRONT.resnet_encoder.5.0.bn2                | BatchNorm2d        | 256   \n",
      "232 | model.cam_name_to_encoder.CAM_FRONT.resnet_encoder.5.0.downsample         | Sequential         | 8 K   \n",
      "233 | model.cam_name_to_encoder.CAM_FRONT.resnet_encoder.5.0.downsample.0       | Conv2d             | 8 K   \n",
      "234 | model.cam_name_to_encoder.CAM_FRONT.resnet_encoder.5.0.downsample.1       | BatchNorm2d        | 256   \n",
      "235 | model.cam_name_to_encoder.CAM_FRONT.resnet_encoder.5.1                    | BasicBlock         | 295 K \n",
      "236 | model.cam_name_to_encoder.CAM_FRONT.resnet_encoder.5.1.conv1              | Conv2d             | 147 K \n",
      "237 | model.cam_name_to_encoder.CAM_FRONT.resnet_encoder.5.1.bn1                | BatchNorm2d        | 256   \n",
      "238 | model.cam_name_to_encoder.CAM_FRONT.resnet_encoder.5.1.relu               | ReLU               | 0     \n",
      "239 | model.cam_name_to_encoder.CAM_FRONT.resnet_encoder.5.1.conv2              | Conv2d             | 147 K \n",
      "240 | model.cam_name_to_encoder.CAM_FRONT.resnet_encoder.5.1.bn2                | BatchNorm2d        | 256   \n",
      "241 | model.cam_name_to_encoder.CAM_FRONT.resnet_encoder.6                      | Sequential         | 2 M   \n",
      "242 | model.cam_name_to_encoder.CAM_FRONT.resnet_encoder.6.0                    | BasicBlock         | 919 K \n",
      "243 | model.cam_name_to_encoder.CAM_FRONT.resnet_encoder.6.0.conv1              | Conv2d             | 294 K \n",
      "244 | model.cam_name_to_encoder.CAM_FRONT.resnet_encoder.6.0.bn1                | BatchNorm2d        | 512   \n",
      "245 | model.cam_name_to_encoder.CAM_FRONT.resnet_encoder.6.0.relu               | ReLU               | 0     \n",
      "246 | model.cam_name_to_encoder.CAM_FRONT.resnet_encoder.6.0.conv2              | Conv2d             | 589 K \n",
      "247 | model.cam_name_to_encoder.CAM_FRONT.resnet_encoder.6.0.bn2                | BatchNorm2d        | 512   \n",
      "248 | model.cam_name_to_encoder.CAM_FRONT.resnet_encoder.6.0.downsample         | Sequential         | 33 K  \n",
      "249 | model.cam_name_to_encoder.CAM_FRONT.resnet_encoder.6.0.downsample.0       | Conv2d             | 32 K  \n",
      "250 | model.cam_name_to_encoder.CAM_FRONT.resnet_encoder.6.0.downsample.1       | BatchNorm2d        | 512   \n",
      "251 | model.cam_name_to_encoder.CAM_FRONT.resnet_encoder.6.1                    | BasicBlock         | 1 M   \n",
      "252 | model.cam_name_to_encoder.CAM_FRONT.resnet_encoder.6.1.conv1              | Conv2d             | 589 K \n",
      "253 | model.cam_name_to_encoder.CAM_FRONT.resnet_encoder.6.1.bn1                | BatchNorm2d        | 512   \n",
      "254 | model.cam_name_to_encoder.CAM_FRONT.resnet_encoder.6.1.relu               | ReLU               | 0     \n",
      "255 | model.cam_name_to_encoder.CAM_FRONT.resnet_encoder.6.1.conv2              | Conv2d             | 589 K \n",
      "256 | model.cam_name_to_encoder.CAM_FRONT.resnet_encoder.6.1.bn2                | BatchNorm2d        | 512   \n",
      "257 | model.cam_name_to_encoder.CAM_FRONT.resnet_encoder.7                      | Sequential         | 8 M   \n",
      "258 | model.cam_name_to_encoder.CAM_FRONT.resnet_encoder.7.0                    | BasicBlock         | 3 M   \n",
      "259 | model.cam_name_to_encoder.CAM_FRONT.resnet_encoder.7.0.conv1              | Conv2d             | 1 M   \n",
      "260 | model.cam_name_to_encoder.CAM_FRONT.resnet_encoder.7.0.bn1                | BatchNorm2d        | 1 K   \n",
      "261 | model.cam_name_to_encoder.CAM_FRONT.resnet_encoder.7.0.relu               | ReLU               | 0     \n",
      "262 | model.cam_name_to_encoder.CAM_FRONT.resnet_encoder.7.0.conv2              | Conv2d             | 2 M   \n",
      "263 | model.cam_name_to_encoder.CAM_FRONT.resnet_encoder.7.0.bn2                | BatchNorm2d        | 1 K   \n",
      "264 | model.cam_name_to_encoder.CAM_FRONT.resnet_encoder.7.0.downsample         | Sequential         | 132 K \n",
      "265 | model.cam_name_to_encoder.CAM_FRONT.resnet_encoder.7.0.downsample.0       | Conv2d             | 131 K \n",
      "266 | model.cam_name_to_encoder.CAM_FRONT.resnet_encoder.7.0.downsample.1       | BatchNorm2d        | 1 K   \n",
      "267 | model.cam_name_to_encoder.CAM_FRONT.resnet_encoder.7.1                    | BasicBlock         | 4 M   \n",
      "268 | model.cam_name_to_encoder.CAM_FRONT.resnet_encoder.7.1.conv1              | Conv2d             | 2 M   \n",
      "269 | model.cam_name_to_encoder.CAM_FRONT.resnet_encoder.7.1.bn1                | BatchNorm2d        | 1 K   \n",
      "270 | model.cam_name_to_encoder.CAM_FRONT.resnet_encoder.7.1.relu               | ReLU               | 0     \n",
      "271 | model.cam_name_to_encoder.CAM_FRONT.resnet_encoder.7.1.conv2              | Conv2d             | 2 M   \n",
      "272 | model.cam_name_to_encoder.CAM_FRONT.resnet_encoder.7.1.bn2                | BatchNorm2d        | 1 K   \n",
      "273 | model.cam_name_to_encoder.CAM_FRONT.resnet_encoder.8                      | AdaptiveAvgPool2d  | 0     \n",
      "274 | model.cam_name_to_encoder.CAM_FRONT_LEFT                                  | encoder            | 11 M  \n",
      "275 | model.cam_name_to_encoder.CAM_FRONT_LEFT.resnet_encoder                   | Sequential         | 11 M  \n",
      "276 | model.cam_name_to_encoder.CAM_FRONT_LEFT.resnet_encoder.0                 | Conv2d             | 9 K   \n",
      "277 | model.cam_name_to_encoder.CAM_FRONT_LEFT.resnet_encoder.1                 | BatchNorm2d        | 128   \n",
      "278 | model.cam_name_to_encoder.CAM_FRONT_LEFT.resnet_encoder.2                 | ReLU               | 0     \n",
      "279 | model.cam_name_to_encoder.CAM_FRONT_LEFT.resnet_encoder.3                 | MaxPool2d          | 0     \n",
      "280 | model.cam_name_to_encoder.CAM_FRONT_LEFT.resnet_encoder.4                 | Sequential         | 147 K \n",
      "281 | model.cam_name_to_encoder.CAM_FRONT_LEFT.resnet_encoder.4.0               | BasicBlock         | 73 K  \n",
      "282 | model.cam_name_to_encoder.CAM_FRONT_LEFT.resnet_encoder.4.0.conv1         | Conv2d             | 36 K  \n",
      "283 | model.cam_name_to_encoder.CAM_FRONT_LEFT.resnet_encoder.4.0.bn1           | BatchNorm2d        | 128   \n",
      "284 | model.cam_name_to_encoder.CAM_FRONT_LEFT.resnet_encoder.4.0.relu          | ReLU               | 0     \n",
      "285 | model.cam_name_to_encoder.CAM_FRONT_LEFT.resnet_encoder.4.0.conv2         | Conv2d             | 36 K  \n",
      "286 | model.cam_name_to_encoder.CAM_FRONT_LEFT.resnet_encoder.4.0.bn2           | BatchNorm2d        | 128   \n",
      "287 | model.cam_name_to_encoder.CAM_FRONT_LEFT.resnet_encoder.4.1               | BasicBlock         | 73 K  \n",
      "288 | model.cam_name_to_encoder.CAM_FRONT_LEFT.resnet_encoder.4.1.conv1         | Conv2d             | 36 K  \n",
      "289 | model.cam_name_to_encoder.CAM_FRONT_LEFT.resnet_encoder.4.1.bn1           | BatchNorm2d        | 128   \n",
      "290 | model.cam_name_to_encoder.CAM_FRONT_LEFT.resnet_encoder.4.1.relu          | ReLU               | 0     \n",
      "291 | model.cam_name_to_encoder.CAM_FRONT_LEFT.resnet_encoder.4.1.conv2         | Conv2d             | 36 K  \n",
      "292 | model.cam_name_to_encoder.CAM_FRONT_LEFT.resnet_encoder.4.1.bn2           | BatchNorm2d        | 128   \n",
      "293 | model.cam_name_to_encoder.CAM_FRONT_LEFT.resnet_encoder.5                 | Sequential         | 525 K \n",
      "294 | model.cam_name_to_encoder.CAM_FRONT_LEFT.resnet_encoder.5.0               | BasicBlock         | 230 K \n",
      "295 | model.cam_name_to_encoder.CAM_FRONT_LEFT.resnet_encoder.5.0.conv1         | Conv2d             | 73 K  \n",
      "296 | model.cam_name_to_encoder.CAM_FRONT_LEFT.resnet_encoder.5.0.bn1           | BatchNorm2d        | 256   \n",
      "297 | model.cam_name_to_encoder.CAM_FRONT_LEFT.resnet_encoder.5.0.relu          | ReLU               | 0     \n",
      "298 | model.cam_name_to_encoder.CAM_FRONT_LEFT.resnet_encoder.5.0.conv2         | Conv2d             | 147 K \n",
      "299 | model.cam_name_to_encoder.CAM_FRONT_LEFT.resnet_encoder.5.0.bn2           | BatchNorm2d        | 256   \n",
      "300 | model.cam_name_to_encoder.CAM_FRONT_LEFT.resnet_encoder.5.0.downsample    | Sequential         | 8 K   \n",
      "301 | model.cam_name_to_encoder.CAM_FRONT_LEFT.resnet_encoder.5.0.downsample.0  | Conv2d             | 8 K   \n",
      "302 | model.cam_name_to_encoder.CAM_FRONT_LEFT.resnet_encoder.5.0.downsample.1  | BatchNorm2d        | 256   \n",
      "303 | model.cam_name_to_encoder.CAM_FRONT_LEFT.resnet_encoder.5.1               | BasicBlock         | 295 K \n",
      "304 | model.cam_name_to_encoder.CAM_FRONT_LEFT.resnet_encoder.5.1.conv1         | Conv2d             | 147 K \n",
      "305 | model.cam_name_to_encoder.CAM_FRONT_LEFT.resnet_encoder.5.1.bn1           | BatchNorm2d        | 256   \n",
      "306 | model.cam_name_to_encoder.CAM_FRONT_LEFT.resnet_encoder.5.1.relu          | ReLU               | 0     \n",
      "307 | model.cam_name_to_encoder.CAM_FRONT_LEFT.resnet_encoder.5.1.conv2         | Conv2d             | 147 K \n",
      "308 | model.cam_name_to_encoder.CAM_FRONT_LEFT.resnet_encoder.5.1.bn2           | BatchNorm2d        | 256   \n",
      "309 | model.cam_name_to_encoder.CAM_FRONT_LEFT.resnet_encoder.6                 | Sequential         | 2 M   \n",
      "310 | model.cam_name_to_encoder.CAM_FRONT_LEFT.resnet_encoder.6.0               | BasicBlock         | 919 K \n",
      "311 | model.cam_name_to_encoder.CAM_FRONT_LEFT.resnet_encoder.6.0.conv1         | Conv2d             | 294 K \n",
      "312 | model.cam_name_to_encoder.CAM_FRONT_LEFT.resnet_encoder.6.0.bn1           | BatchNorm2d        | 512   \n",
      "313 | model.cam_name_to_encoder.CAM_FRONT_LEFT.resnet_encoder.6.0.relu          | ReLU               | 0     \n",
      "314 | model.cam_name_to_encoder.CAM_FRONT_LEFT.resnet_encoder.6.0.conv2         | Conv2d             | 589 K \n",
      "315 | model.cam_name_to_encoder.CAM_FRONT_LEFT.resnet_encoder.6.0.bn2           | BatchNorm2d        | 512   \n",
      "316 | model.cam_name_to_encoder.CAM_FRONT_LEFT.resnet_encoder.6.0.downsample    | Sequential         | 33 K  \n",
      "317 | model.cam_name_to_encoder.CAM_FRONT_LEFT.resnet_encoder.6.0.downsample.0  | Conv2d             | 32 K  \n",
      "318 | model.cam_name_to_encoder.CAM_FRONT_LEFT.resnet_encoder.6.0.downsample.1  | BatchNorm2d        | 512   \n",
      "319 | model.cam_name_to_encoder.CAM_FRONT_LEFT.resnet_encoder.6.1               | BasicBlock         | 1 M   \n",
      "320 | model.cam_name_to_encoder.CAM_FRONT_LEFT.resnet_encoder.6.1.conv1         | Conv2d             | 589 K \n",
      "321 | model.cam_name_to_encoder.CAM_FRONT_LEFT.resnet_encoder.6.1.bn1           | BatchNorm2d        | 512   \n",
      "322 | model.cam_name_to_encoder.CAM_FRONT_LEFT.resnet_encoder.6.1.relu          | ReLU               | 0     \n",
      "323 | model.cam_name_to_encoder.CAM_FRONT_LEFT.resnet_encoder.6.1.conv2         | Conv2d             | 589 K \n",
      "324 | model.cam_name_to_encoder.CAM_FRONT_LEFT.resnet_encoder.6.1.bn2           | BatchNorm2d        | 512   \n",
      "325 | model.cam_name_to_encoder.CAM_FRONT_LEFT.resnet_encoder.7                 | Sequential         | 8 M   \n",
      "326 | model.cam_name_to_encoder.CAM_FRONT_LEFT.resnet_encoder.7.0               | BasicBlock         | 3 M   \n",
      "327 | model.cam_name_to_encoder.CAM_FRONT_LEFT.resnet_encoder.7.0.conv1         | Conv2d             | 1 M   \n",
      "328 | model.cam_name_to_encoder.CAM_FRONT_LEFT.resnet_encoder.7.0.bn1           | BatchNorm2d        | 1 K   \n",
      "329 | model.cam_name_to_encoder.CAM_FRONT_LEFT.resnet_encoder.7.0.relu          | ReLU               | 0     \n",
      "330 | model.cam_name_to_encoder.CAM_FRONT_LEFT.resnet_encoder.7.0.conv2         | Conv2d             | 2 M   \n",
      "331 | model.cam_name_to_encoder.CAM_FRONT_LEFT.resnet_encoder.7.0.bn2           | BatchNorm2d        | 1 K   \n",
      "332 | model.cam_name_to_encoder.CAM_FRONT_LEFT.resnet_encoder.7.0.downsample    | Sequential         | 132 K \n",
      "333 | model.cam_name_to_encoder.CAM_FRONT_LEFT.resnet_encoder.7.0.downsample.0  | Conv2d             | 131 K \n",
      "334 | model.cam_name_to_encoder.CAM_FRONT_LEFT.resnet_encoder.7.0.downsample.1  | BatchNorm2d        | 1 K   \n",
      "335 | model.cam_name_to_encoder.CAM_FRONT_LEFT.resnet_encoder.7.1               | BasicBlock         | 4 M   \n",
      "336 | model.cam_name_to_encoder.CAM_FRONT_LEFT.resnet_encoder.7.1.conv1         | Conv2d             | 2 M   \n",
      "337 | model.cam_name_to_encoder.CAM_FRONT_LEFT.resnet_encoder.7.1.bn1           | BatchNorm2d        | 1 K   \n",
      "338 | model.cam_name_to_encoder.CAM_FRONT_LEFT.resnet_encoder.7.1.relu          | ReLU               | 0     \n",
      "339 | model.cam_name_to_encoder.CAM_FRONT_LEFT.resnet_encoder.7.1.conv2         | Conv2d             | 2 M   \n",
      "340 | model.cam_name_to_encoder.CAM_FRONT_LEFT.resnet_encoder.7.1.bn2           | BatchNorm2d        | 1 K   \n",
      "341 | model.cam_name_to_encoder.CAM_FRONT_LEFT.resnet_encoder.8                 | AdaptiveAvgPool2d  | 0     \n",
      "342 | model.cam_name_to_encoder.CAM_FRONT_RIGHT                                 | encoder            | 11 M  \n",
      "343 | model.cam_name_to_encoder.CAM_FRONT_RIGHT.resnet_encoder                  | Sequential         | 11 M  \n",
      "344 | model.cam_name_to_encoder.CAM_FRONT_RIGHT.resnet_encoder.0                | Conv2d             | 9 K   \n",
      "345 | model.cam_name_to_encoder.CAM_FRONT_RIGHT.resnet_encoder.1                | BatchNorm2d        | 128   \n",
      "346 | model.cam_name_to_encoder.CAM_FRONT_RIGHT.resnet_encoder.2                | ReLU               | 0     \n",
      "347 | model.cam_name_to_encoder.CAM_FRONT_RIGHT.resnet_encoder.3                | MaxPool2d          | 0     \n",
      "348 | model.cam_name_to_encoder.CAM_FRONT_RIGHT.resnet_encoder.4                | Sequential         | 147 K \n",
      "349 | model.cam_name_to_encoder.CAM_FRONT_RIGHT.resnet_encoder.4.0              | BasicBlock         | 73 K  \n",
      "350 | model.cam_name_to_encoder.CAM_FRONT_RIGHT.resnet_encoder.4.0.conv1        | Conv2d             | 36 K  \n",
      "351 | model.cam_name_to_encoder.CAM_FRONT_RIGHT.resnet_encoder.4.0.bn1          | BatchNorm2d        | 128   \n",
      "352 | model.cam_name_to_encoder.CAM_FRONT_RIGHT.resnet_encoder.4.0.relu         | ReLU               | 0     \n",
      "353 | model.cam_name_to_encoder.CAM_FRONT_RIGHT.resnet_encoder.4.0.conv2        | Conv2d             | 36 K  \n",
      "354 | model.cam_name_to_encoder.CAM_FRONT_RIGHT.resnet_encoder.4.0.bn2          | BatchNorm2d        | 128   \n",
      "355 | model.cam_name_to_encoder.CAM_FRONT_RIGHT.resnet_encoder.4.1              | BasicBlock         | 73 K  \n",
      "356 | model.cam_name_to_encoder.CAM_FRONT_RIGHT.resnet_encoder.4.1.conv1        | Conv2d             | 36 K  \n",
      "357 | model.cam_name_to_encoder.CAM_FRONT_RIGHT.resnet_encoder.4.1.bn1          | BatchNorm2d        | 128   \n",
      "358 | model.cam_name_to_encoder.CAM_FRONT_RIGHT.resnet_encoder.4.1.relu         | ReLU               | 0     \n",
      "359 | model.cam_name_to_encoder.CAM_FRONT_RIGHT.resnet_encoder.4.1.conv2        | Conv2d             | 36 K  \n",
      "360 | model.cam_name_to_encoder.CAM_FRONT_RIGHT.resnet_encoder.4.1.bn2          | BatchNorm2d        | 128   \n",
      "361 | model.cam_name_to_encoder.CAM_FRONT_RIGHT.resnet_encoder.5                | Sequential         | 525 K \n",
      "362 | model.cam_name_to_encoder.CAM_FRONT_RIGHT.resnet_encoder.5.0              | BasicBlock         | 230 K \n",
      "363 | model.cam_name_to_encoder.CAM_FRONT_RIGHT.resnet_encoder.5.0.conv1        | Conv2d             | 73 K  \n",
      "364 | model.cam_name_to_encoder.CAM_FRONT_RIGHT.resnet_encoder.5.0.bn1          | BatchNorm2d        | 256   \n",
      "365 | model.cam_name_to_encoder.CAM_FRONT_RIGHT.resnet_encoder.5.0.relu         | ReLU               | 0     \n",
      "366 | model.cam_name_to_encoder.CAM_FRONT_RIGHT.resnet_encoder.5.0.conv2        | Conv2d             | 147 K \n",
      "367 | model.cam_name_to_encoder.CAM_FRONT_RIGHT.resnet_encoder.5.0.bn2          | BatchNorm2d        | 256   \n",
      "368 | model.cam_name_to_encoder.CAM_FRONT_RIGHT.resnet_encoder.5.0.downsample   | Sequential         | 8 K   \n",
      "369 | model.cam_name_to_encoder.CAM_FRONT_RIGHT.resnet_encoder.5.0.downsample.0 | Conv2d             | 8 K   \n",
      "370 | model.cam_name_to_encoder.CAM_FRONT_RIGHT.resnet_encoder.5.0.downsample.1 | BatchNorm2d        | 256   \n",
      "371 | model.cam_name_to_encoder.CAM_FRONT_RIGHT.resnet_encoder.5.1              | BasicBlock         | 295 K \n",
      "372 | model.cam_name_to_encoder.CAM_FRONT_RIGHT.resnet_encoder.5.1.conv1        | Conv2d             | 147 K \n",
      "373 | model.cam_name_to_encoder.CAM_FRONT_RIGHT.resnet_encoder.5.1.bn1          | BatchNorm2d        | 256   \n",
      "374 | model.cam_name_to_encoder.CAM_FRONT_RIGHT.resnet_encoder.5.1.relu         | ReLU               | 0     \n",
      "375 | model.cam_name_to_encoder.CAM_FRONT_RIGHT.resnet_encoder.5.1.conv2        | Conv2d             | 147 K \n",
      "376 | model.cam_name_to_encoder.CAM_FRONT_RIGHT.resnet_encoder.5.1.bn2          | BatchNorm2d        | 256   \n",
      "377 | model.cam_name_to_encoder.CAM_FRONT_RIGHT.resnet_encoder.6                | Sequential         | 2 M   \n",
      "378 | model.cam_name_to_encoder.CAM_FRONT_RIGHT.resnet_encoder.6.0              | BasicBlock         | 919 K \n",
      "379 | model.cam_name_to_encoder.CAM_FRONT_RIGHT.resnet_encoder.6.0.conv1        | Conv2d             | 294 K \n",
      "380 | model.cam_name_to_encoder.CAM_FRONT_RIGHT.resnet_encoder.6.0.bn1          | BatchNorm2d        | 512   \n",
      "381 | model.cam_name_to_encoder.CAM_FRONT_RIGHT.resnet_encoder.6.0.relu         | ReLU               | 0     \n",
      "382 | model.cam_name_to_encoder.CAM_FRONT_RIGHT.resnet_encoder.6.0.conv2        | Conv2d             | 589 K \n",
      "383 | model.cam_name_to_encoder.CAM_FRONT_RIGHT.resnet_encoder.6.0.bn2          | BatchNorm2d        | 512   \n",
      "384 | model.cam_name_to_encoder.CAM_FRONT_RIGHT.resnet_encoder.6.0.downsample   | Sequential         | 33 K  \n",
      "385 | model.cam_name_to_encoder.CAM_FRONT_RIGHT.resnet_encoder.6.0.downsample.0 | Conv2d             | 32 K  \n",
      "386 | model.cam_name_to_encoder.CAM_FRONT_RIGHT.resnet_encoder.6.0.downsample.1 | BatchNorm2d        | 512   \n",
      "387 | model.cam_name_to_encoder.CAM_FRONT_RIGHT.resnet_encoder.6.1              | BasicBlock         | 1 M   \n",
      "388 | model.cam_name_to_encoder.CAM_FRONT_RIGHT.resnet_encoder.6.1.conv1        | Conv2d             | 589 K \n",
      "389 | model.cam_name_to_encoder.CAM_FRONT_RIGHT.resnet_encoder.6.1.bn1          | BatchNorm2d        | 512   \n",
      "390 | model.cam_name_to_encoder.CAM_FRONT_RIGHT.resnet_encoder.6.1.relu         | ReLU               | 0     \n",
      "391 | model.cam_name_to_encoder.CAM_FRONT_RIGHT.resnet_encoder.6.1.conv2        | Conv2d             | 589 K \n",
      "392 | model.cam_name_to_encoder.CAM_FRONT_RIGHT.resnet_encoder.6.1.bn2          | BatchNorm2d        | 512   \n",
      "393 | model.cam_name_to_encoder.CAM_FRONT_RIGHT.resnet_encoder.7                | Sequential         | 8 M   \n",
      "394 | model.cam_name_to_encoder.CAM_FRONT_RIGHT.resnet_encoder.7.0              | BasicBlock         | 3 M   \n",
      "395 | model.cam_name_to_encoder.CAM_FRONT_RIGHT.resnet_encoder.7.0.conv1        | Conv2d             | 1 M   \n",
      "396 | model.cam_name_to_encoder.CAM_FRONT_RIGHT.resnet_encoder.7.0.bn1          | BatchNorm2d        | 1 K   \n",
      "397 | model.cam_name_to_encoder.CAM_FRONT_RIGHT.resnet_encoder.7.0.relu         | ReLU               | 0     \n",
      "398 | model.cam_name_to_encoder.CAM_FRONT_RIGHT.resnet_encoder.7.0.conv2        | Conv2d             | 2 M   \n",
      "399 | model.cam_name_to_encoder.CAM_FRONT_RIGHT.resnet_encoder.7.0.bn2          | BatchNorm2d        | 1 K   \n",
      "400 | model.cam_name_to_encoder.CAM_FRONT_RIGHT.resnet_encoder.7.0.downsample   | Sequential         | 132 K \n",
      "401 | model.cam_name_to_encoder.CAM_FRONT_RIGHT.resnet_encoder.7.0.downsample.0 | Conv2d             | 131 K \n",
      "402 | model.cam_name_to_encoder.CAM_FRONT_RIGHT.resnet_encoder.7.0.downsample.1 | BatchNorm2d        | 1 K   \n",
      "403 | model.cam_name_to_encoder.CAM_FRONT_RIGHT.resnet_encoder.7.1              | BasicBlock         | 4 M   \n",
      "404 | model.cam_name_to_encoder.CAM_FRONT_RIGHT.resnet_encoder.7.1.conv1        | Conv2d             | 2 M   \n",
      "405 | model.cam_name_to_encoder.CAM_FRONT_RIGHT.resnet_encoder.7.1.bn1          | BatchNorm2d        | 1 K   \n",
      "406 | model.cam_name_to_encoder.CAM_FRONT_RIGHT.resnet_encoder.7.1.relu         | ReLU               | 0     \n",
      "407 | model.cam_name_to_encoder.CAM_FRONT_RIGHT.resnet_encoder.7.1.conv2        | Conv2d             | 2 M   \n",
      "408 | model.cam_name_to_encoder.CAM_FRONT_RIGHT.resnet_encoder.7.1.bn2          | BatchNorm2d        | 1 K   \n",
      "409 | model.cam_name_to_encoder.CAM_FRONT_RIGHT.resnet_encoder.8                | AdaptiveAvgPool2d  | 0     \n",
      "410 | model.decoder                                                             | Sequential         | 7 M   \n",
      "411 | model.decoder.0                                                           | Conv2d             | 7 M   \n",
      "412 | model.decoder.1                                                           | BatchNorm2d        | 1 K   \n",
      "413 | model.decoder.2                                                           | ReLU               | 0     \n",
      "414 | model.decoder.3                                                           | AdaptiveAvgPool2d  | 0     \n",
      "415 | model.clf                                                                 | Linear             | 513   \n",
      "416 | criterion                                                                 | BCEWithLogitsLoss  | 0     \n"
     ]
    },
    {
     "data": {
      "application/vnd.jupyter.widget-view+json": {
       "model_id": "",
       "version_major": 2,
       "version_minor": 0
      },
      "text/plain": [
       "HBox(children=(FloatProgress(value=1.0, bar_style='info', description='Validation sanity check', layout=Layout…"
      ]
     },
     "metadata": {},
     "output_type": "display_data"
    },
    {
     "data": {
      "application/vnd.jupyter.widget-view+json": {
       "model_id": "b536caee358749fb8bbc747bf32536b2",
       "version_major": 2,
       "version_minor": 0
      },
      "text/plain": [
       "HBox(children=(FloatProgress(value=1.0, bar_style='info', description='Training', layout=Layout(flex='2'), max…"
      ]
     },
     "metadata": {},
     "output_type": "display_data"
    },
    {
     "data": {
      "application/vnd.jupyter.widget-view+json": {
       "model_id": "",
       "version_major": 2,
       "version_minor": 0
      },
      "text/plain": [
       "HBox(children=(FloatProgress(value=1.0, bar_style='info', description='Validating', layout=Layout(flex='2'), m…"
      ]
     },
     "metadata": {},
     "output_type": "display_data"
    },
    {
     "data": {
      "application/vnd.jupyter.widget-view+json": {
       "model_id": "",
       "version_major": 2,
       "version_minor": 0
      },
      "text/plain": [
       "HBox(children=(FloatProgress(value=1.0, bar_style='info', description='Validating', layout=Layout(flex='2'), m…"
      ]
     },
     "metadata": {},
     "output_type": "display_data"
    },
    {
     "data": {
      "application/vnd.jupyter.widget-view+json": {
       "model_id": "",
       "version_major": 2,
       "version_minor": 0
      },
      "text/plain": [
       "HBox(children=(FloatProgress(value=1.0, bar_style='info', description='Validating', layout=Layout(flex='2'), m…"
      ]
     },
     "metadata": {},
     "output_type": "display_data"
    },
    {
     "data": {
      "application/vnd.jupyter.widget-view+json": {
       "model_id": "",
       "version_major": 2,
       "version_minor": 0
      },
      "text/plain": [
       "HBox(children=(FloatProgress(value=1.0, bar_style='info', description='Validating', layout=Layout(flex='2'), m…"
      ]
     },
     "metadata": {},
     "output_type": "display_data"
    },
    {
     "data": {
      "application/vnd.jupyter.widget-view+json": {
       "model_id": "",
       "version_major": 2,
       "version_minor": 0
      },
      "text/plain": [
       "HBox(children=(FloatProgress(value=1.0, bar_style='info', description='Validating', layout=Layout(flex='2'), m…"
      ]
     },
     "metadata": {},
     "output_type": "display_data"
    },
    {
     "data": {
      "application/vnd.jupyter.widget-view+json": {
       "model_id": "",
       "version_major": 2,
       "version_minor": 0
      },
      "text/plain": [
       "HBox(children=(FloatProgress(value=1.0, bar_style='info', description='Validating', layout=Layout(flex='2'), m…"
      ]
     },
     "metadata": {},
     "output_type": "display_data"
    },
    {
     "data": {
      "application/vnd.jupyter.widget-view+json": {
       "model_id": "",
       "version_major": 2,
       "version_minor": 0
      },
      "text/plain": [
       "HBox(children=(FloatProgress(value=1.0, bar_style='info', description='Validating', layout=Layout(flex='2'), m…"
      ]
     },
     "metadata": {},
     "output_type": "display_data"
    },
    {
     "data": {
      "application/vnd.jupyter.widget-view+json": {
       "model_id": "",
       "version_major": 2,
       "version_minor": 0
      },
      "text/plain": [
       "HBox(children=(FloatProgress(value=1.0, bar_style='info', description='Validating', layout=Layout(flex='2'), m…"
      ]
     },
     "metadata": {},
     "output_type": "display_data"
    },
    {
     "data": {
      "application/vnd.jupyter.widget-view+json": {
       "model_id": "",
       "version_major": 2,
       "version_minor": 0
      },
      "text/plain": [
       "HBox(children=(FloatProgress(value=1.0, bar_style='info', description='Validating', layout=Layout(flex='2'), m…"
      ]
     },
     "metadata": {},
     "output_type": "display_data"
    },
    {
     "data": {
      "application/vnd.jupyter.widget-view+json": {
       "model_id": "",
       "version_major": 2,
       "version_minor": 0
      },
      "text/plain": [
       "HBox(children=(FloatProgress(value=1.0, bar_style='info', description='Validating', layout=Layout(flex='2'), m…"
      ]
     },
     "metadata": {},
     "output_type": "display_data"
    },
    {
     "data": {
      "application/vnd.jupyter.widget-view+json": {
       "model_id": "",
       "version_major": 2,
       "version_minor": 0
      },
      "text/plain": [
       "HBox(children=(FloatProgress(value=1.0, bar_style='info', description='Validating', layout=Layout(flex='2'), m…"
      ]
     },
     "metadata": {},
     "output_type": "display_data"
    },
    {
     "data": {
      "application/vnd.jupyter.widget-view+json": {
       "model_id": "",
       "version_major": 2,
       "version_minor": 0
      },
      "text/plain": [
       "HBox(children=(FloatProgress(value=1.0, bar_style='info', description='Validating', layout=Layout(flex='2'), m…"
      ]
     },
     "metadata": {},
     "output_type": "display_data"
    },
    {
     "data": {
      "application/vnd.jupyter.widget-view+json": {
       "model_id": "",
       "version_major": 2,
       "version_minor": 0
      },
      "text/plain": [
       "HBox(children=(FloatProgress(value=1.0, bar_style='info', description='Validating', layout=Layout(flex='2'), m…"
      ]
     },
     "metadata": {},
     "output_type": "display_data"
    },
    {
     "data": {
      "application/vnd.jupyter.widget-view+json": {
       "model_id": "",
       "version_major": 2,
       "version_minor": 0
      },
      "text/plain": [
       "HBox(children=(FloatProgress(value=1.0, bar_style='info', description='Validating', layout=Layout(flex='2'), m…"
      ]
     },
     "metadata": {},
     "output_type": "display_data"
    },
    {
     "data": {
      "application/vnd.jupyter.widget-view+json": {
       "model_id": "",
       "version_major": 2,
       "version_minor": 0
      },
      "text/plain": [
       "HBox(children=(FloatProgress(value=1.0, bar_style='info', description='Validating', layout=Layout(flex='2'), m…"
      ]
     },
     "metadata": {},
     "output_type": "display_data"
    },
    {
     "data": {
      "application/vnd.jupyter.widget-view+json": {
       "model_id": "",
       "version_major": 2,
       "version_minor": 0
      },
      "text/plain": [
       "HBox(children=(FloatProgress(value=1.0, bar_style='info', description='Validating', layout=Layout(flex='2'), m…"
      ]
     },
     "metadata": {},
     "output_type": "display_data"
    },
    {
     "data": {
      "application/vnd.jupyter.widget-view+json": {
       "model_id": "",
       "version_major": 2,
       "version_minor": 0
      },
      "text/plain": [
       "HBox(children=(FloatProgress(value=1.0, bar_style='info', description='Validating', layout=Layout(flex='2'), m…"
      ]
     },
     "metadata": {},
     "output_type": "display_data"
    },
    {
     "data": {
      "application/vnd.jupyter.widget-view+json": {
       "model_id": "",
       "version_major": 2,
       "version_minor": 0
      },
      "text/plain": [
       "HBox(children=(FloatProgress(value=1.0, bar_style='info', description='Validating', layout=Layout(flex='2'), m…"
      ]
     },
     "metadata": {},
     "output_type": "display_data"
    },
    {
     "data": {
      "application/vnd.jupyter.widget-view+json": {
       "model_id": "",
       "version_major": 2,
       "version_minor": 0
      },
      "text/plain": [
       "HBox(children=(FloatProgress(value=1.0, bar_style='info', description='Validating', layout=Layout(flex='2'), m…"
      ]
     },
     "metadata": {},
     "output_type": "display_data"
    },
    {
     "name": "stderr",
     "output_type": "stream",
     "text": [
      "INFO:lightning:Detected KeyboardInterrupt, attempting graceful shutdown...\n"
     ]
    },
    {
     "name": "stdout",
     "output_type": "stream",
     "text": [
      "\n"
     ]
    },
    {
     "data": {
      "text/plain": [
       "1"
      ]
     },
     "execution_count": 9,
     "metadata": {},
     "output_type": "execute_result"
    }
   ],
   "source": [
    "trainer.fit(model, )"
   ]
  },
  {
   "cell_type": "code",
   "execution_count": null,
   "metadata": {},
   "outputs": [],
   "source": []
  }
 ],
 "metadata": {
  "kernelspec": {
   "display_name": "Python [conda env:pDL] *",
   "language": "python",
   "name": "conda-env-pDL-py"
  },
  "language_info": {
   "codemirror_mode": {
    "name": "ipython",
    "version": 3
   },
   "file_extension": ".py",
   "mimetype": "text/x-python",
   "name": "python",
   "nbconvert_exporter": "python",
   "pygments_lexer": "ipython3",
   "version": "3.8.2"
  }
 },
 "nbformat": 4,
 "nbformat_minor": 4
}
