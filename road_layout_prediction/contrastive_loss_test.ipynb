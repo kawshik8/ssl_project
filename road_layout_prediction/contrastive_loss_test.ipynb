{
 "cells": [
  {
   "cell_type": "code",
   "execution_count": 2,
   "metadata": {
    "ExecuteTime": {
     "end_time": "2020-05-06T18:46:10.453423Z",
     "start_time": "2020-05-06T18:46:08.334262Z"
    }
   },
   "outputs": [],
   "source": [
    "import torch\n",
    "import torch.nn as nn\n",
    "import torch.nn.functional as F\n",
    "import torch.optim as optim\n",
    "from torch.optim import lr_scheduler\n",
    "import numpy as np\n",
    "import torchvision\n",
    "from torchvision import models, transforms\n",
    "import matplotlib\n",
    "import matplotlib.pyplot as plt\n",
    "import time\n",
    "import os\n",
    "import copy\n",
    "import random\n",
    "from datetime import datetime\n",
    "from torch.utils.tensorboard import SummaryWriter\n",
    "from tqdm import tqdm\n",
    "from torchsummary import summary\n",
    "from collections import OrderedDict\n",
    "import re\n",
    "\n",
    "from data_helper import UnlabeledDataset, LabeledDataset\n",
    "from helper import collate_fn, draw_box, compute_ts_road_map\n",
    "from modelzoo import *\n",
    "from simclr_transforms import *"
   ]
  },
  {
   "cell_type": "code",
   "execution_count": 6,
   "metadata": {
    "ExecuteTime": {
     "end_time": "2020-05-04T03:55:49.992053Z",
     "start_time": "2020-05-04T03:55:49.986374Z"
    }
   },
   "outputs": [],
   "source": [
    "xi = torch.rand(3,512)\n",
    "xj = torch.rand(3,512)"
   ]
  },
  {
   "cell_type": "code",
   "execution_count": 9,
   "metadata": {
    "ExecuteTime": {
     "end_time": "2020-05-04T03:56:05.229410Z",
     "start_time": "2020-05-04T03:56:05.223145Z"
    }
   },
   "outputs": [
    {
     "data": {
      "text/plain": [
       "torch.Size([6, 512])"
      ]
     },
     "execution_count": 9,
     "metadata": {},
     "output_type": "execute_result"
    }
   ],
   "source": [
    "x = torch.cat((xi, xj), dim=0)\n",
    "x.shape"
   ]
  },
  {
   "cell_type": "code",
   "execution_count": 10,
   "metadata": {
    "ExecuteTime": {
     "end_time": "2020-05-04T03:56:18.853848Z",
     "start_time": "2020-05-04T03:56:18.824039Z"
    }
   },
   "outputs": [
    {
     "data": {
      "text/plain": [
       "torch.Size([6, 6])"
      ]
     },
     "execution_count": 10,
     "metadata": {},
     "output_type": "execute_result"
    }
   ],
   "source": [
    "sim_mat = torch.mm(x, x.T)\n",
    "sim_mat.shape"
   ]
  },
  {
   "cell_type": "code",
   "execution_count": 16,
   "metadata": {
    "ExecuteTime": {
     "end_time": "2020-05-04T03:57:20.689322Z",
     "start_time": "2020-05-04T03:57:20.682918Z"
    }
   },
   "outputs": [
    {
     "data": {
      "text/plain": [
       "torch.Size([6, 1])"
      ]
     },
     "execution_count": 16,
     "metadata": {},
     "output_type": "execute_result"
    }
   ],
   "source": [
    "torch.norm(x, dim=1).unsqueeze(1).shape"
   ]
  },
  {
   "cell_type": "code",
   "execution_count": 11,
   "metadata": {
    "ExecuteTime": {
     "end_time": "2020-05-04T03:56:45.917201Z",
     "start_time": "2020-05-04T03:56:45.899467Z"
    }
   },
   "outputs": [],
   "source": [
    "if True:\n",
    "    sim_mat_denom = torch.mm(torch.norm(x, dim=1).unsqueeze(1), torch.norm(x, dim=1).unsqueeze(1).T)\n",
    "    sim_mat = sim_mat / sim_mat_denom.clamp(min=1e-16)\n",
    "    "
   ]
  },
  {
   "cell_type": "code",
   "execution_count": 12,
   "metadata": {
    "ExecuteTime": {
     "end_time": "2020-05-04T03:56:50.714110Z",
     "start_time": "2020-05-04T03:56:50.708721Z"
    }
   },
   "outputs": [
    {
     "data": {
      "text/plain": [
       "torch.Size([6, 6])"
      ]
     },
     "execution_count": 12,
     "metadata": {},
     "output_type": "execute_result"
    }
   ],
   "source": [
    "sim_mat_denom.shape"
   ]
  },
  {
   "cell_type": "code",
   "execution_count": 18,
   "metadata": {
    "ExecuteTime": {
     "end_time": "2020-05-04T03:58:45.048673Z",
     "start_time": "2020-05-04T03:58:45.038269Z"
    }
   },
   "outputs": [],
   "source": [
    "sim_mat = torch.exp(sim_mat / 0.1)"
   ]
  },
  {
   "cell_type": "code",
   "execution_count": 28,
   "metadata": {
    "ExecuteTime": {
     "end_time": "2020-05-04T04:01:28.727648Z",
     "start_time": "2020-05-04T04:01:28.721335Z"
    }
   },
   "outputs": [
    {
     "data": {
      "text/plain": [
       "torch.Size([3])"
      ]
     },
     "execution_count": 28,
     "metadata": {},
     "output_type": "execute_result"
    }
   ],
   "source": [
    "torch.sum(xi * xj, dim=-1).shape"
   ]
  },
  {
   "cell_type": "code",
   "execution_count": 20,
   "metadata": {
    "ExecuteTime": {
     "end_time": "2020-05-04T03:59:35.178526Z",
     "start_time": "2020-05-04T03:59:35.173029Z"
    }
   },
   "outputs": [],
   "source": [
    "if True:\n",
    "    sim_mat_denom = torch.norm(xi, dim=1) * torch.norm(xj, dim=1)\n",
    "    sim_match = torch.exp(torch.sum(xi * xj, dim=-1) / sim_mat_denom / 0.1)\n",
    "else:\n",
    "    sim_match = torch.exp(torch.sum(xi * xj, dim=-1) / 0.1)"
   ]
  },
  {
   "cell_type": "code",
   "execution_count": 21,
   "metadata": {
    "ExecuteTime": {
     "end_time": "2020-05-04T03:59:40.822517Z",
     "start_time": "2020-05-04T03:59:40.816439Z"
    }
   },
   "outputs": [
    {
     "data": {
      "text/plain": [
       "torch.Size([3])"
      ]
     },
     "execution_count": 21,
     "metadata": {},
     "output_type": "execute_result"
    }
   ],
   "source": [
    "sim_match.shape"
   ]
  },
  {
   "cell_type": "code",
   "execution_count": 22,
   "metadata": {
    "ExecuteTime": {
     "end_time": "2020-05-04T03:59:59.680367Z",
     "start_time": "2020-05-04T03:59:59.674801Z"
    }
   },
   "outputs": [
    {
     "data": {
      "text/plain": [
       "torch.Size([6])"
      ]
     },
     "execution_count": 22,
     "metadata": {},
     "output_type": "execute_result"
    }
   ],
   "source": [
    "sim_match = torch.cat((sim_match, sim_match), dim=0)\n",
    "sim_match.shape"
   ]
  },
  {
   "cell_type": "code",
   "execution_count": 31,
   "metadata": {
    "ExecuteTime": {
     "end_time": "2020-05-04T04:02:57.972876Z",
     "start_time": "2020-05-04T04:02:57.967863Z"
    }
   },
   "outputs": [],
   "source": [
    "norm_sum = torch.exp(torch.ones(x.size(0)) / 0.1)\n",
    "loss = torch.mean(-torch.log(sim_match / (torch.sum(sim_mat, dim=-1) - norm_sum)))"
   ]
  },
  {
   "cell_type": "code",
   "execution_count": 32,
   "metadata": {
    "ExecuteTime": {
     "end_time": "2020-05-04T04:02:58.286361Z",
     "start_time": "2020-05-04T04:02:58.280897Z"
    }
   },
   "outputs": [
    {
     "data": {
      "text/plain": [
       "torch.Size([])"
      ]
     },
     "execution_count": 32,
     "metadata": {},
     "output_type": "execute_result"
    }
   ],
   "source": [
    "loss.shape"
   ]
  },
  {
   "cell_type": "code",
   "execution_count": null,
   "metadata": {},
   "outputs": [],
   "source": []
  },
  {
   "cell_type": "code",
   "execution_count": null,
   "metadata": {},
   "outputs": [],
   "source": []
  },
  {
   "cell_type": "code",
   "execution_count": 46,
   "metadata": {
    "ExecuteTime": {
     "end_time": "2020-05-06T19:04:56.506060Z",
     "start_time": "2020-05-06T19:04:56.499744Z"
    }
   },
   "outputs": [
    {
     "name": "stdout",
     "output_type": "stream",
     "text": [
      "torch.Size([3, 2]) torch.Size([3, 2])\n"
     ]
    }
   ],
   "source": [
    "xi = torch.Tensor([[5,4],[1,0],[3,3.5]])\n",
    "xj = torch.Tensor([[4,3],[2,1],[3,2.5]])\n",
    "\n",
    "print(xi.shape,xj.shape)"
   ]
  },
  {
   "cell_type": "code",
   "execution_count": 47,
   "metadata": {
    "ExecuteTime": {
     "end_time": "2020-05-06T19:04:56.671567Z",
     "start_time": "2020-05-06T19:04:56.667229Z"
    }
   },
   "outputs": [],
   "source": [
    "x = torch.cat((xi, xj), dim=0)\n",
    "batch_size = x.shape[0]"
   ]
  },
  {
   "cell_type": "code",
   "execution_count": 48,
   "metadata": {
    "ExecuteTime": {
     "end_time": "2020-05-06T19:04:56.850895Z",
     "start_time": "2020-05-06T19:04:56.844039Z"
    }
   },
   "outputs": [
    {
     "data": {
      "text/plain": [
       "torch.Size([6, 6])"
      ]
     },
     "execution_count": 48,
     "metadata": {},
     "output_type": "execute_result"
    }
   ],
   "source": [
    "sim_mat = torch.mm(x, x.T)\n",
    "sim_mat.shape"
   ]
  },
  {
   "cell_type": "code",
   "execution_count": 49,
   "metadata": {
    "ExecuteTime": {
     "end_time": "2020-05-06T19:04:57.005668Z",
     "start_time": "2020-05-06T19:04:56.999633Z"
    }
   },
   "outputs": [
    {
     "data": {
      "text/plain": [
       "tensor([[5.0000, 4.0000],\n",
       "        [1.0000, 0.0000],\n",
       "        [3.0000, 3.5000],\n",
       "        [4.0000, 3.0000],\n",
       "        [2.0000, 1.0000],\n",
       "        [3.0000, 2.5000]])"
      ]
     },
     "execution_count": 49,
     "metadata": {},
     "output_type": "execute_result"
    }
   ],
   "source": [
    "x"
   ]
  },
  {
   "cell_type": "code",
   "execution_count": 50,
   "metadata": {
    "ExecuteTime": {
     "end_time": "2020-05-06T19:04:57.167717Z",
     "start_time": "2020-05-06T19:04:57.160557Z"
    }
   },
   "outputs": [
    {
     "data": {
      "text/plain": [
       "tensor([[5.0000, 1.0000, 3.0000, 4.0000, 2.0000, 3.0000],\n",
       "        [4.0000, 0.0000, 3.5000, 3.0000, 1.0000, 2.5000]])"
      ]
     },
     "execution_count": 50,
     "metadata": {},
     "output_type": "execute_result"
    }
   ],
   "source": [
    "x.T"
   ]
  },
  {
   "cell_type": "code",
   "execution_count": 51,
   "metadata": {
    "ExecuteTime": {
     "end_time": "2020-05-06T19:04:57.338660Z",
     "start_time": "2020-05-06T19:04:57.331788Z"
    }
   },
   "outputs": [
    {
     "data": {
      "text/plain": [
       "tensor([[41.0000,  5.0000, 29.0000, 32.0000, 14.0000, 25.0000],\n",
       "        [ 5.0000,  1.0000,  3.0000,  4.0000,  2.0000,  3.0000],\n",
       "        [29.0000,  3.0000, 21.2500, 22.5000,  9.5000, 17.7500],\n",
       "        [32.0000,  4.0000, 22.5000, 25.0000, 11.0000, 19.5000],\n",
       "        [14.0000,  2.0000,  9.5000, 11.0000,  5.0000,  8.5000],\n",
       "        [25.0000,  3.0000, 17.7500, 19.5000,  8.5000, 15.2500]])"
      ]
     },
     "execution_count": 51,
     "metadata": {},
     "output_type": "execute_result"
    }
   ],
   "source": [
    "sim_mat"
   ]
  },
  {
   "cell_type": "code",
   "execution_count": 52,
   "metadata": {
    "ExecuteTime": {
     "end_time": "2020-05-06T19:04:57.552883Z",
     "start_time": "2020-05-06T19:04:57.537223Z"
    }
   },
   "outputs": [
    {
     "data": {
      "text/plain": [
       "tensor([[6.4031],\n",
       "        [1.0000],\n",
       "        [4.6098],\n",
       "        [5.0000],\n",
       "        [2.2361],\n",
       "        [3.9051]])"
      ]
     },
     "execution_count": 52,
     "metadata": {},
     "output_type": "execute_result"
    }
   ],
   "source": [
    "torch.norm(x, dim=1).unsqueeze(1)"
   ]
  },
  {
   "cell_type": "code",
   "execution_count": 53,
   "metadata": {
    "ExecuteTime": {
     "end_time": "2020-05-06T19:04:57.742246Z",
     "start_time": "2020-05-06T19:04:57.735014Z"
    }
   },
   "outputs": [
    {
     "data": {
      "text/plain": [
       "torch.return_types.topk(\n",
       "values=tensor([[41.0000, 32.0000],\n",
       "        [ 5.0000,  4.0000],\n",
       "        [29.0000, 22.5000],\n",
       "        [32.0000, 25.0000],\n",
       "        [14.0000, 11.0000],\n",
       "        [25.0000, 19.5000]]),\n",
       "indices=tensor([[0, 3],\n",
       "        [0, 3],\n",
       "        [0, 3],\n",
       "        [0, 3],\n",
       "        [0, 3],\n",
       "        [0, 3]]))"
      ]
     },
     "execution_count": 53,
     "metadata": {},
     "output_type": "execute_result"
    }
   ],
   "source": [
    "torch.topk(sim_mat,k=2)"
   ]
  },
  {
   "cell_type": "code",
   "execution_count": 54,
   "metadata": {
    "ExecuteTime": {
     "end_time": "2020-05-06T19:04:58.089211Z",
     "start_time": "2020-05-06T19:04:58.083793Z"
    }
   },
   "outputs": [],
   "source": [
    "closest_vectors = torch.topk(sim_mat,k=2)[1][:,1]\n",
    "target_vectors = torch.cat((torch.arange(batch_size/2,batch_size),torch.arange(0,batch_size/2)),dim=0)\n",
    "batch_acc = torch.sum(closest_vectors == target_vectors)*100/batch_size\n"
   ]
  },
  {
   "cell_type": "code",
   "execution_count": 55,
   "metadata": {
    "ExecuteTime": {
     "end_time": "2020-05-06T19:04:58.365598Z",
     "start_time": "2020-05-06T19:04:58.360364Z"
    }
   },
   "outputs": [],
   "source": [
    "sim_mat_denom = torch.mm(torch.norm(x, dim=1).unsqueeze(1), torch.norm(x, dim=1).unsqueeze(1).T)\n",
    "sim_mat = sim_mat / sim_mat_denom.clamp(min=1e-16)"
   ]
  },
  {
   "cell_type": "code",
   "execution_count": 56,
   "metadata": {
    "ExecuteTime": {
     "end_time": "2020-05-06T19:04:59.043899Z",
     "start_time": "2020-05-06T19:04:59.035048Z"
    }
   },
   "outputs": [
    {
     "data": {
      "text/plain": [
       "tensor([[41.0000,  6.4031, 29.5169, 32.0156, 14.3178, 25.0050],\n",
       "        [ 6.4031,  1.0000,  4.6098,  5.0000,  2.2361,  3.9051],\n",
       "        [29.5169,  4.6098, 21.2500, 23.0489, 10.3078, 18.0017],\n",
       "        [32.0156,  5.0000, 23.0489, 25.0000, 11.1803, 19.5256],\n",
       "        [14.3178,  2.2361, 10.3078, 11.1803,  5.0000,  8.7321],\n",
       "        [25.0050,  3.9051, 18.0017, 19.5256,  8.7321, 15.2500]])"
      ]
     },
     "execution_count": 56,
     "metadata": {},
     "output_type": "execute_result"
    }
   ],
   "source": [
    "sim_mat_denom"
   ]
  },
  {
   "cell_type": "code",
   "execution_count": 40,
   "metadata": {
    "ExecuteTime": {
     "end_time": "2020-05-06T19:01:31.353882Z",
     "start_time": "2020-05-06T19:01:31.347256Z"
    },
    "scrolled": false
   },
   "outputs": [
    {
     "data": {
      "text/plain": [
       "tensor([[1.0000, 0.7809, 0.9825, 0.9995, 0.9778, 0.9998],\n",
       "        [0.7809, 1.0000, 0.6508, 0.8000, 0.8944, 0.7682],\n",
       "        [0.9825, 0.6508, 1.0000, 0.9762, 0.9216, 0.9860],\n",
       "        [0.9995, 0.8000, 0.9762, 1.0000, 0.9839, 0.9987],\n",
       "        [0.9778, 0.8944, 0.9216, 0.9839, 1.0000, 0.9734],\n",
       "        [0.9998, 0.7682, 0.9860, 0.9987, 0.9734, 1.0000]])"
      ]
     },
     "execution_count": 40,
     "metadata": {},
     "output_type": "execute_result"
    }
   ],
   "source": [
    "sim_mat"
   ]
  },
  {
   "cell_type": "code",
   "execution_count": 41,
   "metadata": {
    "ExecuteTime": {
     "end_time": "2020-05-06T19:01:34.540550Z",
     "start_time": "2020-05-06T19:01:34.536344Z"
    }
   },
   "outputs": [
    {
     "data": {
      "text/plain": [
       "torch.return_types.topk(\n",
       "values=tensor([[1.0000, 0.9998],\n",
       "        [1.0000, 0.8944],\n",
       "        [1.0000, 0.9860],\n",
       "        [1.0000, 0.9995],\n",
       "        [1.0000, 0.9839],\n",
       "        [1.0000, 0.9998]]),\n",
       "indices=tensor([[0, 5],\n",
       "        [1, 4],\n",
       "        [2, 5],\n",
       "        [3, 0],\n",
       "        [4, 3],\n",
       "        [5, 0]]))"
      ]
     },
     "execution_count": 41,
     "metadata": {},
     "output_type": "execute_result"
    }
   ],
   "source": [
    "torch.topk(sim_mat,k=2)"
   ]
  },
  {
   "cell_type": "code",
   "execution_count": 42,
   "metadata": {
    "ExecuteTime": {
     "end_time": "2020-05-06T19:01:36.763084Z",
     "start_time": "2020-05-06T19:01:36.757631Z"
    }
   },
   "outputs": [],
   "source": [
    "closest_vectors = torch.topk(sim_mat,k=2)[1][:,1]\n",
    "target_vectors = torch.cat((torch.arange(batch_size/2,batch_size),torch.arange(0,batch_size/2)),dim=0)\n",
    "batch_acc = torch.sum(closest_vectors == target_vectors)*100/batch_size\n"
   ]
  },
  {
   "cell_type": "code",
   "execution_count": 43,
   "metadata": {
    "ExecuteTime": {
     "end_time": "2020-05-06T19:01:37.111334Z",
     "start_time": "2020-05-06T19:01:37.104484Z"
    }
   },
   "outputs": [
    {
     "data": {
      "text/plain": [
       "tensor([5, 4, 5, 0, 3, 0])"
      ]
     },
     "execution_count": 43,
     "metadata": {},
     "output_type": "execute_result"
    }
   ],
   "source": [
    "closest_vectors"
   ]
  },
  {
   "cell_type": "code",
   "execution_count": 44,
   "metadata": {
    "ExecuteTime": {
     "end_time": "2020-05-06T19:01:39.042518Z",
     "start_time": "2020-05-06T19:01:39.037500Z"
    }
   },
   "outputs": [
    {
     "data": {
      "text/plain": [
       "tensor([3., 4., 5., 0., 1., 2.])"
      ]
     },
     "execution_count": 44,
     "metadata": {},
     "output_type": "execute_result"
    }
   ],
   "source": [
    "target_vectors"
   ]
  },
  {
   "cell_type": "code",
   "execution_count": 45,
   "metadata": {
    "ExecuteTime": {
     "end_time": "2020-05-06T19:02:54.859499Z",
     "start_time": "2020-05-06T19:02:54.856071Z"
    }
   },
   "outputs": [
    {
     "data": {
      "text/plain": [
       "tensor([[5.0000, 4.0000],\n",
       "        [1.0000, 0.0000],\n",
       "        [3.0000, 3.5000],\n",
       "        [4.0000, 3.0000],\n",
       "        [2.0000, 1.0000],\n",
       "        [3.0000, 2.5000]])"
      ]
     },
     "execution_count": 45,
     "metadata": {},
     "output_type": "execute_result"
    }
   ],
   "source": [
    "x"
   ]
  },
  {
   "cell_type": "code",
   "execution_count": 57,
   "metadata": {
    "ExecuteTime": {
     "end_time": "2020-05-06T19:16:25.640351Z",
     "start_time": "2020-05-06T19:16:25.405657Z"
    }
   },
   "outputs": [
    {
     "data": {
      "text/plain": [
       "tensor([[6.4031],\n",
       "        [1.0000],\n",
       "        [4.6098],\n",
       "        [5.0000],\n",
       "        [2.2361],\n",
       "        [3.9051]])"
      ]
     },
     "execution_count": 57,
     "metadata": {},
     "output_type": "execute_result"
    }
   ],
   "source": [
    "torch.norm(x, dim=1).unsqueeze(1)"
   ]
  },
  {
   "cell_type": "code",
   "execution_count": 65,
   "metadata": {
    "ExecuteTime": {
     "end_time": "2020-05-06T19:46:01.594577Z",
     "start_time": "2020-05-06T19:46:01.589503Z"
    }
   },
   "outputs": [
    {
     "data": {
      "text/plain": [
       "101304"
      ]
     },
     "execution_count": 65,
     "metadata": {},
     "output_type": "execute_result"
    }
   ],
   "source": [
    "126*134*6"
   ]
  },
  {
   "cell_type": "code",
   "execution_count": null,
   "metadata": {},
   "outputs": [],
   "source": []
  }
 ],
 "metadata": {
  "kernelspec": {
   "display_name": "Python 3",
   "language": "python",
   "name": "python3"
  },
  "language_info": {
   "codemirror_mode": {
    "name": "ipython",
    "version": 3
   },
   "file_extension": ".py",
   "mimetype": "text/x-python",
   "name": "python",
   "nbconvert_exporter": "python",
   "pygments_lexer": "ipython3",
   "version": "3.7.5"
  },
  "toc": {
   "base_numbering": 1,
   "nav_menu": {},
   "number_sections": true,
   "sideBar": true,
   "skip_h1_title": false,
   "title_cell": "Table of Contents",
   "title_sidebar": "Contents",
   "toc_cell": false,
   "toc_position": {},
   "toc_section_display": true,
   "toc_window_display": false
  }
 },
 "nbformat": 4,
 "nbformat_minor": 2
}
